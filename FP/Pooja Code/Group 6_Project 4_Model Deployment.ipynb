{
 "cells": [
  {
   "cell_type": "markdown",
   "id": "c3b89d54",
   "metadata": {},
   "source": [
    "# GOURMET GUIDE"
   ]
  },
  {
   "cell_type": "markdown",
   "id": "07bae762",
   "metadata": {},
   "source": [
    "### Foundation Project 1: Food Recommendation Model"
   ]
  },
  {
   "cell_type": "markdown",
   "id": "8127bcd7",
   "metadata": {},
   "source": [
    "#### Group 6\n",
    "\n",
    "* Charanjeet Singh - 12220064\n",
    "* Pooja Nilesh Doshi - 12220028\n",
    "* Snigdha Debashis Bhattacharjee - 12220067\n",
    "* Vinayak Dave - 12220047"
   ]
  },
  {
   "cell_type": "code",
   "execution_count": 1,
   "id": "2bbb31e8",
   "metadata": {},
   "outputs": [],
   "source": [
    "import streamlit as st\n",
    "import pickle\n",
    "import pandas as pd\n",
    "import requests\n",
    "import numpy as np\n",
    "from sklearn.feature_extraction.text import TfidfVectorizer\n",
    "from sklearn.metrics.pairwise import cosine_similarity\n",
    "import warnings\n",
    "warnings.filterwarnings(\"ignore\")"
   ]
  },
  {
   "cell_type": "code",
   "execution_count": 2,
   "id": "d676bdc7",
   "metadata": {},
   "outputs": [],
   "source": [
    "train_df = pd.read_excel(r\"C:\\Users\\Green Lantern\\OneDrive\\Documents\\ISB AMPBA Winter 2023\\Term 2\\Foundational Project 1\\FP1_Project 4_Group6_Final\\restaurant dataset\\zomato2.xlsx\")"
   ]
  },
  {
   "cell_type": "code",
   "execution_count": 3,
   "id": "6ebec850",
   "metadata": {},
   "outputs": [],
   "source": [
    "#Deleting Unnnecessary Columns\n",
    "train_df = train_df.drop(['Unnamed: 0', 'url'],axis=1)"
   ]
  },
  {
   "cell_type": "code",
   "execution_count": 4,
   "id": "ea44073f",
   "metadata": {},
   "outputs": [],
   "source": [
    "train_df.set_index('name', inplace=True)"
   ]
  },
  {
   "cell_type": "code",
   "execution_count": 5,
   "id": "24d9dab7",
   "metadata": {},
   "outputs": [],
   "source": [
    "indices = pd.Series(train_df.index)"
   ]
  },
  {
   "cell_type": "code",
   "execution_count": 6,
   "id": "1f455bdd",
   "metadata": {},
   "outputs": [],
   "source": [
    " cost_clusters = {\n",
    "    0: [100.0, 250.0],\n",
    "    1: [300.0, 550.0],\n",
    "    2: [600.0, 950.0]}\n",
    "train_df['cost_cluster']=''\n",
    "train_df.loc[(train_df['cost'] >= 100.0) & (train_df['cost'] <= 250.0), 'cost_cluster'] = 0\n",
    "train_df.loc[(train_df['cost'] >= 300.0) & (train_df['cost'] <= 550.0), 'cost_cluster'] = 1\n",
    "train_df.loc[(train_df['cost'] >= 600.0) & (train_df['cost'] <= 950.0), 'cost_cluster'] = 2"
   ]
  },
  {
   "cell_type": "code",
   "execution_count": 7,
   "id": "d195af18",
   "metadata": {},
   "outputs": [],
   "source": [
    "def main():\n",
    "    st.title(\"GOURMET GUIDE\")\n",
    "    user_recommendation()"
   ]
  },
  {
   "cell_type": "code",
   "execution_count": 8,
   "id": "45f8e930",
   "metadata": {},
   "outputs": [],
   "source": [
    "def user_recommendation():\n",
    "    unique_loc = train_df['location'].unique()\n",
    "    location = st.selectbox(\"Choose Location:\", unique_loc)\n",
    "\n",
    "    unique_cuisines_df = train_df[train_df['location'] == location]['cuisines']\n",
    "    unique_cuisines = unique_cuisines_df.unique()\n",
    "    if unique_cuisines_df.empty:\n",
    "        st.warning(\"Choose your Location\")\n",
    "        return\n",
    "\n",
    "    cuisine = st.selectbox(\"Choose Cuisine:\", unique_cuisines)\n",
    "\n",
    "    Rest_Name_df = train_df[(train_df['location'] == location) & (train_df['cuisines'] == cuisine)]\n",
    "    if Rest_Name_df.empty:\n",
    "        st.warning(\"Choose your preferred Cuisine\")\n",
    "        return\n",
    "    Rest_Name = Rest_Name_df['rest_type'].unique()\n",
    "    rest_type = st.selectbox(\"Choose Restaurant Type:\", Rest_Name)\n",
    "\n",
    "    filtered_df = train_df[(train_df['location'] == location) & (train_df['cuisines'] == cuisine) & (train_df['rest_type'] == rest_type)]\n",
    "    if filtered_df.empty:\n",
    "        st.warning(\"No Restaurants Found\")\n",
    "        return\n",
    "\n",
    "    cost_cluster = []\n",
    "    ranges = []\n",
    "    cost_cluster = filtered_df['cost_cluster'].unique()\n",
    "\n",
    "    for i in cost_cluster:\n",
    "        for cluster, cost_range in cost_clusters.items():\n",
    "            if cluster == i:\n",
    "                ranges.append(f\"{cluster}. Rs.{cost_range[0]} to Rs.{cost_range[1]}\")\n",
    "    \n",
    "    cost_range = st.selectbox(\"Cost for Two:\", reversed(ranges))\n",
    "\n",
    "    cost_range = int(cost_range.split(\".\")[0])\n",
    "    cost_filter = (filtered_df['cost'] >= cost_clusters[cost_range][0]) & (filtered_df['cost'] <= cost_clusters[cost_range][1])\n",
    "    filtered_df = filtered_df[cost_filter]\n",
    "\n",
    "    if filtered_df.empty:\n",
    "        st.warning(\"No Restaurants Found\")\n",
    "        return\n",
    "\n",
    "    #Preprocessing 'reviews_list' column to handle missing values\n",
    "    filtered_df['reviews_list'].fillna('', inplace=True)\n",
    "    \n",
    "    num_rows = filtered_df.shape[0]\n",
    "    if num_rows == 1:\n",
    "        name = filtered_df.index.tolist()\n",
    "        recommendations_df = pd.DataFrame({'Restaurant': name, 'Rating': filtered_df['rate']})\n",
    "        recommendations_df = recommendations_df.reset_index(drop=True)\n",
    "    else:\n",
    "        tfidf_reviews = TfidfVectorizer(analyzer='word', ngram_range=(1, 2), min_df=0, stop_words='english')\n",
    "        tfidf_reviews_matrix = tfidf_reviews.fit_transform(filtered_df['reviews_list'])\n",
    "\n",
    "        cosine_reviews = cosine_similarity(tfidf_reviews_matrix, tfidf_reviews_matrix)\n",
    "\n",
    "        idx = filtered_df.index[0]\n",
    "        unique_indexes = filtered_df.index.unique()\n",
    "\n",
    "        if idx in unique_indexes:\n",
    "            idx = unique_indexes.get_loc(idx)\n",
    "            sim_scores_reviews = list(enumerate(cosine_reviews[idx]))\n",
    "            sim_scores_reviews = sorted(list(sim_scores_reviews), key=lambda x: x[1], reverse=True)\n",
    "            top5_indexes_reviews = [i[0] for i in sim_scores_reviews[1:6]]\n",
    "            recommend_restaurants_reviews = list(filtered_df.index[top5_indexes_reviews].unique())\n",
    "            recommend_ratings_reviews = [np.unique(filtered_df.loc[restaurant]['rate']) for restaurant in recommend_restaurants_reviews]\n",
    "\n",
    "        if not recommend_restaurants_reviews:\n",
    "            st.warning(\"No Restaurants Found\")\n",
    "            return\n",
    "\n",
    "        recommendations_df = pd.DataFrame({'Restaurant': recommend_restaurants_reviews, 'Rating': recommend_ratings_reviews})\n",
    "\n",
    "    st.success(\"Restaurants you may also like:\")\n",
    "    st.table(recommendations_df)\n",
    "\n",
    "    selected_restaurant = st.selectbox(\"Select a restaurant from the list above:\", recommendations_df['Restaurant'].values)\n",
    "\n",
    "    if selected_restaurant not in recommendations_df['Restaurant'].values:\n",
    "        st.warning(\"Invalid restaurant selection\")\n",
    "        return\n",
    "\n",
    "    selected_index = recommendations_df[recommendations_df['Restaurant'] == selected_restaurant].index[0]\n",
    "    selected_recommend_dishes = filtered_df.loc[recommendations_df.loc[selected_index, 'Restaurant'], 'dish_liked']\n",
    "    \n",
    "    if isinstance(selected_recommend_dishes, str):\n",
    "        selected_recommend_dishes = [selected_recommend_dishes]\n",
    "    else:\n",
    "        selected_recommend_dishes = selected_recommend_dishes.drop_duplicates().tolist()\n",
    "\n",
    "    all_dishes = ','.join(selected_recommend_dishes)\n",
    "    dishes_list = [dish.strip() for dish in all_dishes.split(',')]\n",
    "    unique_dishes = list(set(dishes_list))\n",
    "    df = pd.DataFrame({'Dishes': unique_dishes})\n",
    "\n",
    "    st.success(f\"Dishes you will like in {selected_restaurant}:\")\n",
    "    st.write(df['Dishes'])"
   ]
  },
  {
   "cell_type": "code",
   "execution_count": 9,
   "id": "af919937",
   "metadata": {},
   "outputs": [
    {
     "name": "stderr",
     "output_type": "stream",
     "text": [
      "2023-06-17 23:39:18.732 \n",
      "  \u001b[33m\u001b[1mWarning:\u001b[0m to view this Streamlit app on a browser, run it with the following\n",
      "  command:\n",
      "\n",
      "    streamlit run C:\\Users\\Green Lantern\\anaconda3\\lib\\site-packages\\ipykernel_launcher.py [ARGUMENTS]\n"
     ]
    }
   ],
   "source": [
    "if __name__ == \"__main__\":\n",
    "    main()"
   ]
  }
 ],
 "metadata": {
  "kernelspec": {
   "display_name": "Python 3 (ipykernel)",
   "language": "python",
   "name": "python3"
  },
  "language_info": {
   "codemirror_mode": {
    "name": "ipython",
    "version": 3
   },
   "file_extension": ".py",
   "mimetype": "text/x-python",
   "name": "python",
   "nbconvert_exporter": "python",
   "pygments_lexer": "ipython3",
   "version": "3.9.13"
  }
 },
 "nbformat": 4,
 "nbformat_minor": 5
}
