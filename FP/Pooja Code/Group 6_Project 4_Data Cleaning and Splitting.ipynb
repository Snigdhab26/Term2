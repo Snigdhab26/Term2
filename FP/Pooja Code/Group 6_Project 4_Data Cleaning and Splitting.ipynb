{
 "cells": [
  {
   "cell_type": "markdown",
   "id": "ae1f4a8b",
   "metadata": {},
   "source": [
    "# GOURMET GUIDE"
   ]
  },
  {
   "cell_type": "markdown",
   "id": "445021ea",
   "metadata": {},
   "source": [
    "### Foundation Project 1: Food Recommendation Model"
   ]
  },
  {
   "cell_type": "markdown",
   "id": "4456ca6f",
   "metadata": {},
   "source": [
    "#### Group 6\n",
    "\n",
    "* Charanjeet Singh - 12220064\n",
    "* Pooja Nilesh Doshi - 12220028\n",
    "* Snigdha Debashis Bhattacharjee - 12220067\n",
    "* Vinayak Dave - 12220047"
   ]
  },
  {
   "cell_type": "code",
   "execution_count": 1,
   "id": "aafdfc7d",
   "metadata": {},
   "outputs": [],
   "source": [
    "#!pip install threadpoolctl==3.1.0\n",
    "#!pip install yellowbrick\n",
    "#!pip install pca\n",
    "#!pip install spacy==3.5.2\n",
    "#!python -m spacy download en"
   ]
  },
  {
   "cell_type": "code",
   "execution_count": 2,
   "id": "2bbb31e8",
   "metadata": {},
   "outputs": [],
   "source": [
    "import json\n",
    "import string\n",
    "import spacy\n",
    "import matplotlib as m\n",
    "%matplotlib inline\n",
    "import matplotlib.pyplot as plt\n",
    "plt.style.use('ggplot')\n",
    "import numpy as np\n",
    "import os\n",
    "import re\n",
    "import pandas as pd\n",
    "from pandas import DataFrame\n",
    "from scipy import stats\n",
    "from scipy.stats import norm\n",
    "import seaborn as sns\n",
    "import threadpoolctl\n",
    "import warnings\n",
    "warnings.filterwarnings(\"ignore\")\n",
    "from pca import pca\n",
    "from sklearn import datasets\n",
    "from sklearn.preprocessing import MinMaxScaler\n",
    "import nltk\n",
    "from nltk.corpus import stopwords\n",
    "from nltk.tokenize import word_tokenize\n",
    "from sklearn.feature_extraction.text import TfidfVectorizer\n",
    "from sklearn.naive_bayes import MultinomialNB\n",
    "from sklearn.metrics import classification_report\n",
    "from sklearn.metrics.pairwise import linear_kernel\n",
    "from sklearn.cluster import KMeans"
   ]
  },
  {
   "cell_type": "code",
   "execution_count": 3,
   "id": "d676bdc7",
   "metadata": {},
   "outputs": [],
   "source": [
    "zomato = pd.read_csv(r\"C:\\Users\\Green Lantern\\OneDrive\\Documents\\ISB AMPBA Winter 2023\\Term 2\\Foundational Project 1\\FP1_Project 4_Group6_Final\\restaurant dataset\\zomato.csv\")"
   ]
  },
  {
   "cell_type": "markdown",
   "id": "125b3ef6",
   "metadata": {},
   "source": [
    "#### DATA CLEANING"
   ]
  },
  {
   "cell_type": "code",
   "execution_count": 4,
   "id": "f3c12c97",
   "metadata": {},
   "outputs": [],
   "source": [
    "#Adding Restaurant ID\n",
    "zomato.insert(0, \"rest_id\", range(1, len(zomato) + 1))"
   ]
  },
  {
   "cell_type": "code",
   "execution_count": 5,
   "id": "2bc2a8da",
   "metadata": {},
   "outputs": [],
   "source": [
    "#Preserving the original dataset\n",
    "df = zomato.copy()"
   ]
  },
  {
   "cell_type": "code",
   "execution_count": 6,
   "id": "ac8d30a6",
   "metadata": {},
   "outputs": [
    {
     "data": {
      "text/plain": [
       "(51717, 18)"
      ]
     },
     "execution_count": 6,
     "metadata": {},
     "output_type": "execute_result"
    }
   ],
   "source": [
    "df.shape"
   ]
  },
  {
   "cell_type": "code",
   "execution_count": 7,
   "id": "0e220a13",
   "metadata": {},
   "outputs": [
    {
     "data": {
      "text/plain": [
       "Index(['rest_id', 'url', 'address', 'name', 'online_order', 'book_table',\n",
       "       'rate', 'votes', 'phone', 'location', 'rest_type', 'dish_liked',\n",
       "       'cuisines', 'approx_cost(for two people)', 'reviews_list', 'menu_item',\n",
       "       'listed_in(type)', 'listed_in(city)'],\n",
       "      dtype='object')"
      ]
     },
     "execution_count": 7,
     "metadata": {},
     "output_type": "execute_result"
    }
   ],
   "source": [
    "df.columns"
   ]
  },
  {
   "cell_type": "code",
   "execution_count": 8,
   "id": "0308832f",
   "metadata": {},
   "outputs": [
    {
     "name": "stdout",
     "output_type": "stream",
     "text": [
      "<class 'pandas.core.frame.DataFrame'>\n",
      "RangeIndex: 51717 entries, 0 to 51716\n",
      "Data columns (total 18 columns):\n",
      " #   Column                       Non-Null Count  Dtype \n",
      "---  ------                       --------------  ----- \n",
      " 0   rest_id                      51717 non-null  int64 \n",
      " 1   url                          51717 non-null  object\n",
      " 2   address                      51717 non-null  object\n",
      " 3   name                         51717 non-null  object\n",
      " 4   online_order                 51717 non-null  object\n",
      " 5   book_table                   51717 non-null  object\n",
      " 6   rate                         43942 non-null  object\n",
      " 7   votes                        51717 non-null  int64 \n",
      " 8   phone                        50509 non-null  object\n",
      " 9   location                     51696 non-null  object\n",
      " 10  rest_type                    51490 non-null  object\n",
      " 11  dish_liked                   23639 non-null  object\n",
      " 12  cuisines                     51672 non-null  object\n",
      " 13  approx_cost(for two people)  51371 non-null  object\n",
      " 14  reviews_list                 51717 non-null  object\n",
      " 15  menu_item                    51717 non-null  object\n",
      " 16  listed_in(type)              51717 non-null  object\n",
      " 17  listed_in(city)              51717 non-null  object\n",
      "dtypes: int64(2), object(16)\n",
      "memory usage: 7.1+ MB\n"
     ]
    }
   ],
   "source": [
    "df.info()"
   ]
  },
  {
   "cell_type": "code",
   "execution_count": 9,
   "id": "39ba1727",
   "metadata": {},
   "outputs": [],
   "source": [
    "#Deleting rows with null values in 'dish_liked', 'rest_type', 'rate', 'approx_cost(for two people)'\n",
    "df.dropna(subset=['dish_liked'], how='all', inplace=True)\n",
    "df.dropna(subset=['rest_type'], how='all', inplace=True)\n",
    "df.dropna(subset=['rate'], how='all', inplace=True)\n",
    "df.dropna(subset=['approx_cost(for two people)'], how='all', inplace=True)"
   ]
  },
  {
   "cell_type": "code",
   "execution_count": 10,
   "id": "568536f8",
   "metadata": {},
   "outputs": [],
   "source": [
    "#Deleting Unnnecessary Columns\n",
    "df = df.drop(['address','listed_in(type)', 'listed_in(city)', 'menu_item','phone'],axis=1)"
   ]
  },
  {
   "cell_type": "code",
   "execution_count": 11,
   "id": "57026116",
   "metadata": {},
   "outputs": [],
   "source": [
    "#Removing the Duplicates\n",
    "df.duplicated().sum()\n",
    "df.drop_duplicates(inplace=True)"
   ]
  },
  {
   "cell_type": "code",
   "execution_count": 12,
   "id": "1a984107",
   "metadata": {},
   "outputs": [
    {
     "name": "stdout",
     "output_type": "stream",
     "text": [
      "<class 'pandas.core.frame.DataFrame'>\n",
      "Int64Index: 23406 entries, 0 to 51715\n",
      "Data columns (total 13 columns):\n",
      " #   Column                       Non-Null Count  Dtype \n",
      "---  ------                       --------------  ----- \n",
      " 0   rest_id                      23406 non-null  int64 \n",
      " 1   url                          23406 non-null  object\n",
      " 2   name                         23406 non-null  object\n",
      " 3   online_order                 23406 non-null  object\n",
      " 4   book_table                   23406 non-null  object\n",
      " 5   rate                         23406 non-null  object\n",
      " 6   votes                        23406 non-null  int64 \n",
      " 7   location                     23406 non-null  object\n",
      " 8   rest_type                    23406 non-null  object\n",
      " 9   dish_liked                   23406 non-null  object\n",
      " 10  cuisines                     23406 non-null  object\n",
      " 11  approx_cost(for two people)  23406 non-null  object\n",
      " 12  reviews_list                 23406 non-null  object\n",
      "dtypes: int64(2), object(11)\n",
      "memory usage: 2.5+ MB\n"
     ]
    }
   ],
   "source": [
    "df.info()"
   ]
  },
  {
   "cell_type": "code",
   "execution_count": 13,
   "id": "9580a7ec",
   "metadata": {},
   "outputs": [
    {
     "data": {
      "text/plain": [
       "Index(['rest_id', 'url', 'name', 'online_order', 'book_table', 'rate', 'votes',\n",
       "       'location', 'rest_type', 'dish_liked', 'cuisines', 'cost',\n",
       "       'reviews_list'],\n",
       "      dtype='object')"
      ]
     },
     "execution_count": 13,
     "metadata": {},
     "output_type": "execute_result"
    }
   ],
   "source": [
    "#Changing the column names\n",
    "df = df.rename(columns={'approx_cost(for two people)':'cost'})\n",
    "df.columns"
   ]
  },
  {
   "cell_type": "code",
   "execution_count": 14,
   "id": "91dfa508",
   "metadata": {},
   "outputs": [],
   "source": [
    "#Changing the cost to Float\n",
    "df['cost'] = df['cost'].astype(str)\n",
    "df['cost'] = df['cost'].apply(lambda x: x.replace(',','.'))\n",
    "df['cost'] = df['cost'].astype(float) "
   ]
  },
  {
   "cell_type": "code",
   "execution_count": 15,
   "id": "f21b0ed7",
   "metadata": {},
   "outputs": [
    {
     "data": {
      "text/html": [
       "<div>\n",
       "<style scoped>\n",
       "    .dataframe tbody tr th:only-of-type {\n",
       "        vertical-align: middle;\n",
       "    }\n",
       "\n",
       "    .dataframe tbody tr th {\n",
       "        vertical-align: top;\n",
       "    }\n",
       "\n",
       "    .dataframe thead th {\n",
       "        text-align: right;\n",
       "    }\n",
       "</style>\n",
       "<table border=\"1\" class=\"dataframe\">\n",
       "  <thead>\n",
       "    <tr style=\"text-align: right;\">\n",
       "      <th></th>\n",
       "      <th>rest_id</th>\n",
       "      <th>url</th>\n",
       "      <th>name</th>\n",
       "      <th>online_order</th>\n",
       "      <th>book_table</th>\n",
       "      <th>rate</th>\n",
       "      <th>votes</th>\n",
       "      <th>location</th>\n",
       "      <th>rest_type</th>\n",
       "      <th>dish_liked</th>\n",
       "      <th>cuisines</th>\n",
       "      <th>cost</th>\n",
       "      <th>reviews_list</th>\n",
       "    </tr>\n",
       "  </thead>\n",
       "  <tbody>\n",
       "    <tr>\n",
       "      <th>0</th>\n",
       "      <td>1</td>\n",
       "      <td>https://www.zomato.com/bangalore/jalsa-banasha...</td>\n",
       "      <td>Jalsa</td>\n",
       "      <td>Yes</td>\n",
       "      <td>Yes</td>\n",
       "      <td>4.1/5</td>\n",
       "      <td>775</td>\n",
       "      <td>Banashankari</td>\n",
       "      <td>Casual Dining</td>\n",
       "      <td>Pasta, Lunch Buffet, Masala Papad, Paneer Laja...</td>\n",
       "      <td>North Indian, Mughlai, Chinese</td>\n",
       "      <td>800.0</td>\n",
       "      <td>[('Rated 4.0', 'RATED\\n  A beautiful place to ...</td>\n",
       "    </tr>\n",
       "    <tr>\n",
       "      <th>1</th>\n",
       "      <td>2</td>\n",
       "      <td>https://www.zomato.com/bangalore/spice-elephan...</td>\n",
       "      <td>Spice Elephant</td>\n",
       "      <td>Yes</td>\n",
       "      <td>No</td>\n",
       "      <td>4.1/5</td>\n",
       "      <td>787</td>\n",
       "      <td>Banashankari</td>\n",
       "      <td>Casual Dining</td>\n",
       "      <td>Momos, Lunch Buffet, Chocolate Nirvana, Thai G...</td>\n",
       "      <td>Chinese, North Indian, Thai</td>\n",
       "      <td>800.0</td>\n",
       "      <td>[('Rated 4.0', 'RATED\\n  Had been here for din...</td>\n",
       "    </tr>\n",
       "    <tr>\n",
       "      <th>2</th>\n",
       "      <td>3</td>\n",
       "      <td>https://www.zomato.com/SanchurroBangalore?cont...</td>\n",
       "      <td>San Churro Cafe</td>\n",
       "      <td>Yes</td>\n",
       "      <td>No</td>\n",
       "      <td>3.8/5</td>\n",
       "      <td>918</td>\n",
       "      <td>Banashankari</td>\n",
       "      <td>Cafe, Casual Dining</td>\n",
       "      <td>Churros, Cannelloni, Minestrone Soup, Hot Choc...</td>\n",
       "      <td>Cafe, Mexican, Italian</td>\n",
       "      <td>800.0</td>\n",
       "      <td>[('Rated 3.0', \"RATED\\n  Ambience is not that ...</td>\n",
       "    </tr>\n",
       "    <tr>\n",
       "      <th>3</th>\n",
       "      <td>4</td>\n",
       "      <td>https://www.zomato.com/bangalore/addhuri-udupi...</td>\n",
       "      <td>Addhuri Udupi Bhojana</td>\n",
       "      <td>No</td>\n",
       "      <td>No</td>\n",
       "      <td>3.7/5</td>\n",
       "      <td>88</td>\n",
       "      <td>Banashankari</td>\n",
       "      <td>Quick Bites</td>\n",
       "      <td>Masala Dosa</td>\n",
       "      <td>South Indian, North Indian</td>\n",
       "      <td>300.0</td>\n",
       "      <td>[('Rated 4.0', \"RATED\\n  Great food and proper...</td>\n",
       "    </tr>\n",
       "    <tr>\n",
       "      <th>4</th>\n",
       "      <td>5</td>\n",
       "      <td>https://www.zomato.com/bangalore/grand-village...</td>\n",
       "      <td>Grand Village</td>\n",
       "      <td>No</td>\n",
       "      <td>No</td>\n",
       "      <td>3.8/5</td>\n",
       "      <td>166</td>\n",
       "      <td>Basavanagudi</td>\n",
       "      <td>Casual Dining</td>\n",
       "      <td>Panipuri, Gol Gappe</td>\n",
       "      <td>North Indian, Rajasthani</td>\n",
       "      <td>600.0</td>\n",
       "      <td>[('Rated 4.0', 'RATED\\n  Very good restaurant ...</td>\n",
       "    </tr>\n",
       "  </tbody>\n",
       "</table>\n",
       "</div>"
      ],
      "text/plain": [
       "   rest_id                                                url  \\\n",
       "0        1  https://www.zomato.com/bangalore/jalsa-banasha...   \n",
       "1        2  https://www.zomato.com/bangalore/spice-elephan...   \n",
       "2        3  https://www.zomato.com/SanchurroBangalore?cont...   \n",
       "3        4  https://www.zomato.com/bangalore/addhuri-udupi...   \n",
       "4        5  https://www.zomato.com/bangalore/grand-village...   \n",
       "\n",
       "                    name online_order book_table   rate  votes      location  \\\n",
       "0                  Jalsa          Yes        Yes  4.1/5    775  Banashankari   \n",
       "1         Spice Elephant          Yes         No  4.1/5    787  Banashankari   \n",
       "2        San Churro Cafe          Yes         No  3.8/5    918  Banashankari   \n",
       "3  Addhuri Udupi Bhojana           No         No  3.7/5     88  Banashankari   \n",
       "4          Grand Village           No         No  3.8/5    166  Basavanagudi   \n",
       "\n",
       "             rest_type                                         dish_liked  \\\n",
       "0        Casual Dining  Pasta, Lunch Buffet, Masala Papad, Paneer Laja...   \n",
       "1        Casual Dining  Momos, Lunch Buffet, Chocolate Nirvana, Thai G...   \n",
       "2  Cafe, Casual Dining  Churros, Cannelloni, Minestrone Soup, Hot Choc...   \n",
       "3          Quick Bites                                        Masala Dosa   \n",
       "4        Casual Dining                                Panipuri, Gol Gappe   \n",
       "\n",
       "                         cuisines   cost  \\\n",
       "0  North Indian, Mughlai, Chinese  800.0   \n",
       "1     Chinese, North Indian, Thai  800.0   \n",
       "2          Cafe, Mexican, Italian  800.0   \n",
       "3      South Indian, North Indian  300.0   \n",
       "4        North Indian, Rajasthani  600.0   \n",
       "\n",
       "                                        reviews_list  \n",
       "0  [('Rated 4.0', 'RATED\\n  A beautiful place to ...  \n",
       "1  [('Rated 4.0', 'RATED\\n  Had been here for din...  \n",
       "2  [('Rated 3.0', \"RATED\\n  Ambience is not that ...  \n",
       "3  [('Rated 4.0', \"RATED\\n  Great food and proper...  \n",
       "4  [('Rated 4.0', 'RATED\\n  Very good restaurant ...  "
      ]
     },
     "execution_count": 15,
     "metadata": {},
     "output_type": "execute_result"
    }
   ],
   "source": [
    "df.head()"
   ]
  },
  {
   "cell_type": "code",
   "execution_count": 16,
   "id": "73bff03a",
   "metadata": {},
   "outputs": [
    {
     "data": {
      "text/plain": [
       "array(['4.1/5', '3.8/5', '3.7/5', '4.6/5', '4.0/5', '4.2/5', '3.9/5',\n",
       "       '3.0/5', '3.6/5', '2.8/5', '4.4/5', '3.1/5', '4.3/5', '2.6/5',\n",
       "       '3.3/5', '3.5/5', '3.8 /5', '3.2/5', '4.5/5', '2.5/5', '2.9/5',\n",
       "       '3.4/5', '2.7/5', '4.7/5', 'NEW', '2.4/5', '2.2/5', '2.3/5',\n",
       "       '4.8/5', '3.9 /5', '4.2 /5', '4.0 /5', '4.1 /5', '2.9 /5',\n",
       "       '2.7 /5', '2.5 /5', '2.6 /5', '4.5 /5', '4.3 /5', '3.7 /5',\n",
       "       '4.4 /5', '4.9/5', '2.1/5', '2.0/5', '1.8/5', '3.4 /5', '3.6 /5',\n",
       "       '3.3 /5', '4.6 /5', '4.9 /5', '3.2 /5', '3.0 /5', '2.8 /5',\n",
       "       '3.5 /5', '3.1 /5', '4.8 /5', '2.3 /5', '4.7 /5', '2.4 /5',\n",
       "       '2.1 /5', '2.2 /5', '2.0 /5', '1.8 /5'], dtype=object)"
      ]
     },
     "execution_count": 16,
     "metadata": {},
     "output_type": "execute_result"
    }
   ],
   "source": [
    "#'rate'\n",
    "df['rate'].unique()"
   ]
  },
  {
   "cell_type": "code",
   "execution_count": 17,
   "id": "c776bc21",
   "metadata": {},
   "outputs": [
    {
     "data": {
      "text/plain": [
       "array(['4.1', '3.8', '3.7', '4.6', '4.0', '4.2', '3.9', '3.0', '3.6',\n",
       "       '2.8', '4.4', '3.1', '4.3', '2.6', '3.3', '3.5', '3.8 ', '3.2',\n",
       "       '4.5', '2.5', '2.9', '3.4', '2.7', '4.7', '2.4', '2.2', '2.3',\n",
       "       '4.8', '3.9 ', '4.2 ', '4.0 ', '4.1 ', '2.9 ', '2.7 ', '2.5 ',\n",
       "       '2.6 ', '4.5 ', '4.3 ', '3.7 ', '4.4 ', '4.9', '2.1', '2.0', '1.8',\n",
       "       '3.4 ', '3.6 ', '3.3 ', '4.6 ', '4.9 ', '3.2 ', '3.0 ', '2.8 ',\n",
       "       '3.5 ', '3.1 ', '4.8 ', '2.3 ', '4.7 ', '2.4 ', '2.1 ', '2.2 ',\n",
       "       '2.0 ', '1.8 '], dtype=object)"
      ]
     },
     "execution_count": 17,
     "metadata": {},
     "output_type": "execute_result"
    }
   ],
   "source": [
    "#Removing '/5' from 'rate' and dropping 'NEW' restaurants\n",
    "df['rate'] = df['rate'].str.replace('/5', '')\n",
    "\n",
    "df = df.loc[df.rate !='NEW']\n",
    "df = df.loc[df.rate !='-'].reset_index(drop=True)\n",
    "\n",
    "df['rate'].unique()"
   ]
  },
  {
   "cell_type": "code",
   "execution_count": 18,
   "id": "3694c03c",
   "metadata": {},
   "outputs": [],
   "source": [
    "#Converting 'online_order' and 'book_table'columns from String to Boolean \n",
    "df.online_order.replace(('Yes','No'),(True, False),inplace=True)\n",
    "df.book_table.replace(('Yes','No'),(True, False),inplace=True)"
   ]
  },
  {
   "cell_type": "code",
   "execution_count": 19,
   "id": "e99c747a",
   "metadata": {},
   "outputs": [
    {
     "name": "stdout",
     "output_type": "stream",
     "text": [
      "<class 'pandas.core.frame.DataFrame'>\n",
      "RangeIndex: 23259 entries, 0 to 23258\n",
      "Data columns (total 13 columns):\n",
      " #   Column        Non-Null Count  Dtype  \n",
      "---  ------        --------------  -----  \n",
      " 0   rest_id       23259 non-null  int64  \n",
      " 1   url           23259 non-null  object \n",
      " 2   name          23259 non-null  object \n",
      " 3   online_order  23259 non-null  bool   \n",
      " 4   book_table    23259 non-null  bool   \n",
      " 5   rate          23259 non-null  object \n",
      " 6   votes         23259 non-null  int64  \n",
      " 7   location      23259 non-null  object \n",
      " 8   rest_type     23259 non-null  object \n",
      " 9   dish_liked    23259 non-null  object \n",
      " 10  cuisines      23259 non-null  object \n",
      " 11  cost          23259 non-null  float64\n",
      " 12  reviews_list  23259 non-null  object \n",
      "dtypes: bool(2), float64(1), int64(2), object(8)\n",
      "memory usage: 2.0+ MB\n"
     ]
    }
   ],
   "source": [
    "df.info()"
   ]
  },
  {
   "cell_type": "code",
   "execution_count": 20,
   "id": "f8e30dc9",
   "metadata": {},
   "outputs": [
    {
     "data": {
      "text/html": [
       "<div>\n",
       "<style scoped>\n",
       "    .dataframe tbody tr th:only-of-type {\n",
       "        vertical-align: middle;\n",
       "    }\n",
       "\n",
       "    .dataframe tbody tr th {\n",
       "        vertical-align: top;\n",
       "    }\n",
       "\n",
       "    .dataframe thead th {\n",
       "        text-align: right;\n",
       "    }\n",
       "</style>\n",
       "<table border=\"1\" class=\"dataframe\">\n",
       "  <thead>\n",
       "    <tr style=\"text-align: right;\">\n",
       "      <th></th>\n",
       "      <th>rest_id</th>\n",
       "      <th>url</th>\n",
       "      <th>name</th>\n",
       "      <th>online_order</th>\n",
       "      <th>book_table</th>\n",
       "      <th>rate</th>\n",
       "      <th>votes</th>\n",
       "      <th>location</th>\n",
       "      <th>rest_type</th>\n",
       "      <th>dish_liked</th>\n",
       "      <th>cuisines</th>\n",
       "      <th>cost</th>\n",
       "      <th>reviews_list</th>\n",
       "    </tr>\n",
       "  </thead>\n",
       "  <tbody>\n",
       "    <tr>\n",
       "      <th>0</th>\n",
       "      <td>1</td>\n",
       "      <td>https://www.zomato.com/bangalore/jalsa-banasha...</td>\n",
       "      <td>Jalsa</td>\n",
       "      <td>True</td>\n",
       "      <td>True</td>\n",
       "      <td>4.1</td>\n",
       "      <td>775</td>\n",
       "      <td>Banashankari</td>\n",
       "      <td>Casual Dining</td>\n",
       "      <td>Pasta, Lunch Buffet, Masala Papad, Paneer Laja...</td>\n",
       "      <td>North Indian, Mughlai, Chinese</td>\n",
       "      <td>800.0</td>\n",
       "      <td>[('Rated 4.0', 'RATED\\n  A beautiful place to ...</td>\n",
       "    </tr>\n",
       "    <tr>\n",
       "      <th>1</th>\n",
       "      <td>2</td>\n",
       "      <td>https://www.zomato.com/bangalore/spice-elephan...</td>\n",
       "      <td>Spice Elephant</td>\n",
       "      <td>True</td>\n",
       "      <td>False</td>\n",
       "      <td>4.1</td>\n",
       "      <td>787</td>\n",
       "      <td>Banashankari</td>\n",
       "      <td>Casual Dining</td>\n",
       "      <td>Momos, Lunch Buffet, Chocolate Nirvana, Thai G...</td>\n",
       "      <td>Chinese, North Indian, Thai</td>\n",
       "      <td>800.0</td>\n",
       "      <td>[('Rated 4.0', 'RATED\\n  Had been here for din...</td>\n",
       "    </tr>\n",
       "    <tr>\n",
       "      <th>2</th>\n",
       "      <td>3</td>\n",
       "      <td>https://www.zomato.com/SanchurroBangalore?cont...</td>\n",
       "      <td>San Churro Cafe</td>\n",
       "      <td>True</td>\n",
       "      <td>False</td>\n",
       "      <td>3.8</td>\n",
       "      <td>918</td>\n",
       "      <td>Banashankari</td>\n",
       "      <td>Cafe, Casual Dining</td>\n",
       "      <td>Churros, Cannelloni, Minestrone Soup, Hot Choc...</td>\n",
       "      <td>Cafe, Mexican, Italian</td>\n",
       "      <td>800.0</td>\n",
       "      <td>[('Rated 3.0', \"RATED\\n  Ambience is not that ...</td>\n",
       "    </tr>\n",
       "    <tr>\n",
       "      <th>3</th>\n",
       "      <td>4</td>\n",
       "      <td>https://www.zomato.com/bangalore/addhuri-udupi...</td>\n",
       "      <td>Addhuri Udupi Bhojana</td>\n",
       "      <td>False</td>\n",
       "      <td>False</td>\n",
       "      <td>3.7</td>\n",
       "      <td>88</td>\n",
       "      <td>Banashankari</td>\n",
       "      <td>Quick Bites</td>\n",
       "      <td>Masala Dosa</td>\n",
       "      <td>South Indian, North Indian</td>\n",
       "      <td>300.0</td>\n",
       "      <td>[('Rated 4.0', \"RATED\\n  Great food and proper...</td>\n",
       "    </tr>\n",
       "    <tr>\n",
       "      <th>4</th>\n",
       "      <td>5</td>\n",
       "      <td>https://www.zomato.com/bangalore/grand-village...</td>\n",
       "      <td>Grand Village</td>\n",
       "      <td>False</td>\n",
       "      <td>False</td>\n",
       "      <td>3.8</td>\n",
       "      <td>166</td>\n",
       "      <td>Basavanagudi</td>\n",
       "      <td>Casual Dining</td>\n",
       "      <td>Panipuri, Gol Gappe</td>\n",
       "      <td>North Indian, Rajasthani</td>\n",
       "      <td>600.0</td>\n",
       "      <td>[('Rated 4.0', 'RATED\\n  Very good restaurant ...</td>\n",
       "    </tr>\n",
       "  </tbody>\n",
       "</table>\n",
       "</div>"
      ],
      "text/plain": [
       "   rest_id                                                url  \\\n",
       "0        1  https://www.zomato.com/bangalore/jalsa-banasha...   \n",
       "1        2  https://www.zomato.com/bangalore/spice-elephan...   \n",
       "2        3  https://www.zomato.com/SanchurroBangalore?cont...   \n",
       "3        4  https://www.zomato.com/bangalore/addhuri-udupi...   \n",
       "4        5  https://www.zomato.com/bangalore/grand-village...   \n",
       "\n",
       "                    name  online_order  book_table rate  votes      location  \\\n",
       "0                  Jalsa          True        True  4.1    775  Banashankari   \n",
       "1         Spice Elephant          True       False  4.1    787  Banashankari   \n",
       "2        San Churro Cafe          True       False  3.8    918  Banashankari   \n",
       "3  Addhuri Udupi Bhojana         False       False  3.7     88  Banashankari   \n",
       "4          Grand Village         False       False  3.8    166  Basavanagudi   \n",
       "\n",
       "             rest_type                                         dish_liked  \\\n",
       "0        Casual Dining  Pasta, Lunch Buffet, Masala Papad, Paneer Laja...   \n",
       "1        Casual Dining  Momos, Lunch Buffet, Chocolate Nirvana, Thai G...   \n",
       "2  Cafe, Casual Dining  Churros, Cannelloni, Minestrone Soup, Hot Choc...   \n",
       "3          Quick Bites                                        Masala Dosa   \n",
       "4        Casual Dining                                Panipuri, Gol Gappe   \n",
       "\n",
       "                         cuisines   cost  \\\n",
       "0  North Indian, Mughlai, Chinese  800.0   \n",
       "1     Chinese, North Indian, Thai  800.0   \n",
       "2          Cafe, Mexican, Italian  800.0   \n",
       "3      South Indian, North Indian  300.0   \n",
       "4        North Indian, Rajasthani  600.0   \n",
       "\n",
       "                                        reviews_list  \n",
       "0  [('Rated 4.0', 'RATED\\n  A beautiful place to ...  \n",
       "1  [('Rated 4.0', 'RATED\\n  Had been here for din...  \n",
       "2  [('Rated 3.0', \"RATED\\n  Ambience is not that ...  \n",
       "3  [('Rated 4.0', \"RATED\\n  Great food and proper...  \n",
       "4  [('Rated 4.0', 'RATED\\n  Very good restaurant ...  "
      ]
     },
     "execution_count": 20,
     "metadata": {},
     "output_type": "execute_result"
    }
   ],
   "source": [
    "df.head()"
   ]
  },
  {
   "cell_type": "code",
   "execution_count": 21,
   "id": "973d79ec",
   "metadata": {},
   "outputs": [],
   "source": [
    "df.to_excel(r\"C:\\Users\\Green Lantern\\OneDrive\\Documents\\ISB AMPBA Winter 2023\\Term 2\\Foundational Project 1\\FP1_Project 4_Group6_Final\\restaurant dataset\\zomato1.xlsx\")"
   ]
  },
  {
   "cell_type": "markdown",
   "id": "4cbbb367",
   "metadata": {},
   "source": [
    "#### INITIAL TEXT PROCESSING"
   ]
  },
  {
   "cell_type": "code",
   "execution_count": 22,
   "id": "d8f4b59e",
   "metadata": {},
   "outputs": [],
   "source": [
    "nlp = spacy.load('en_core_web_sm')"
   ]
  },
  {
   "cell_type": "markdown",
   "id": "2d9a981d",
   "metadata": {},
   "source": [
    "Name"
   ]
  },
  {
   "cell_type": "code",
   "execution_count": 23,
   "id": "9f6b29e1",
   "metadata": {},
   "outputs": [
    {
     "data": {
      "text/html": [
       "<div>\n",
       "<style scoped>\n",
       "    .dataframe tbody tr th:only-of-type {\n",
       "        vertical-align: middle;\n",
       "    }\n",
       "\n",
       "    .dataframe tbody tr th {\n",
       "        vertical-align: top;\n",
       "    }\n",
       "\n",
       "    .dataframe thead th {\n",
       "        text-align: right;\n",
       "    }\n",
       "</style>\n",
       "<table border=\"1\" class=\"dataframe\">\n",
       "  <thead>\n",
       "    <tr style=\"text-align: right;\">\n",
       "      <th></th>\n",
       "      <th>name</th>\n",
       "    </tr>\n",
       "  </thead>\n",
       "  <tbody>\n",
       "    <tr>\n",
       "      <th>0</th>\n",
       "      <td>Jalsa</td>\n",
       "    </tr>\n",
       "    <tr>\n",
       "      <th>1</th>\n",
       "      <td>Spice Elephant</td>\n",
       "    </tr>\n",
       "    <tr>\n",
       "      <th>2</th>\n",
       "      <td>San Churro Cafe</td>\n",
       "    </tr>\n",
       "    <tr>\n",
       "      <th>3</th>\n",
       "      <td>Addhuri Udupi Bhojana</td>\n",
       "    </tr>\n",
       "    <tr>\n",
       "      <th>4</th>\n",
       "      <td>Grand Village</td>\n",
       "    </tr>\n",
       "    <tr>\n",
       "      <th>5</th>\n",
       "      <td>Timepass Dinner</td>\n",
       "    </tr>\n",
       "    <tr>\n",
       "      <th>6</th>\n",
       "      <td>Onesta</td>\n",
       "    </tr>\n",
       "    <tr>\n",
       "      <th>7</th>\n",
       "      <td>Penthouse Cafe</td>\n",
       "    </tr>\n",
       "    <tr>\n",
       "      <th>8</th>\n",
       "      <td>Smacznego</td>\n",
       "    </tr>\n",
       "    <tr>\n",
       "      <th>9</th>\n",
       "      <td>CafÃÂÃÂÃÂÃÂÃÂÃÂÃÂÃÂ© Down The A...</td>\n",
       "    </tr>\n",
       "  </tbody>\n",
       "</table>\n",
       "</div>"
      ],
      "text/plain": [
       "                                                name\n",
       "0                                              Jalsa\n",
       "1                                     Spice Elephant\n",
       "2                                    San Churro Cafe\n",
       "3                              Addhuri Udupi Bhojana\n",
       "4                                      Grand Village\n",
       "5                                    Timepass Dinner\n",
       "6                                             Onesta\n",
       "7                                     Penthouse Cafe\n",
       "8                                          Smacznego\n",
       "9  CafÃÂÃÂÃÂÃÂÃÂÃÂÃÂÃÂ© Down The A..."
      ]
     },
     "execution_count": 23,
     "metadata": {},
     "output_type": "execute_result"
    }
   ],
   "source": [
    "#Review sample data\n",
    "df[['name']].head(10)"
   ]
  },
  {
   "cell_type": "code",
   "execution_count": 24,
   "id": "44622e6d",
   "metadata": {},
   "outputs": [
    {
     "data": {
      "text/html": [
       "<div>\n",
       "<style scoped>\n",
       "    .dataframe tbody tr th:only-of-type {\n",
       "        vertical-align: middle;\n",
       "    }\n",
       "\n",
       "    .dataframe tbody tr th {\n",
       "        vertical-align: top;\n",
       "    }\n",
       "\n",
       "    .dataframe thead th {\n",
       "        text-align: right;\n",
       "    }\n",
       "</style>\n",
       "<table border=\"1\" class=\"dataframe\">\n",
       "  <thead>\n",
       "    <tr style=\"text-align: right;\">\n",
       "      <th></th>\n",
       "      <th>name</th>\n",
       "    </tr>\n",
       "  </thead>\n",
       "  <tbody>\n",
       "    <tr>\n",
       "      <th>0</th>\n",
       "      <td>Jalsa</td>\n",
       "    </tr>\n",
       "    <tr>\n",
       "      <th>1</th>\n",
       "      <td>Spice Elephant</td>\n",
       "    </tr>\n",
       "    <tr>\n",
       "      <th>2</th>\n",
       "      <td>San Churro Cafe</td>\n",
       "    </tr>\n",
       "    <tr>\n",
       "      <th>3</th>\n",
       "      <td>Addhuri Udupi Bhojana</td>\n",
       "    </tr>\n",
       "    <tr>\n",
       "      <th>4</th>\n",
       "      <td>Grand Village</td>\n",
       "    </tr>\n",
       "    <tr>\n",
       "      <th>5</th>\n",
       "      <td>Timepass Dinner</td>\n",
       "    </tr>\n",
       "    <tr>\n",
       "      <th>6</th>\n",
       "      <td>Onesta</td>\n",
       "    </tr>\n",
       "    <tr>\n",
       "      <th>7</th>\n",
       "      <td>Penthouse Cafe</td>\n",
       "    </tr>\n",
       "    <tr>\n",
       "      <th>8</th>\n",
       "      <td>Smacznego</td>\n",
       "    </tr>\n",
       "    <tr>\n",
       "      <th>9</th>\n",
       "      <td>Cafãâãâãâãâãâãâãâãâ Down The Alley</td>\n",
       "    </tr>\n",
       "  </tbody>\n",
       "</table>\n",
       "</div>"
      ],
      "text/plain": [
       "                                 name\n",
       "0                               Jalsa\n",
       "1                      Spice Elephant\n",
       "2                     San Churro Cafe\n",
       "3               Addhuri Udupi Bhojana\n",
       "4                       Grand Village\n",
       "5                     Timepass Dinner\n",
       "6                              Onesta\n",
       "7                      Penthouse Cafe\n",
       "8                           Smacznego\n",
       "9  Cafãâãâãâãâãâãâãâãâ Down The Alley"
      ]
     },
     "execution_count": 24,
     "metadata": {},
     "output_type": "execute_result"
    }
   ],
   "source": [
    "#Clean the names and capitalize the first letter\n",
    "df['name'] = df['name'].apply(lambda x: re.sub(r'[^\\w\\s]', '', x.lower()).strip().title())\n",
    "df[['name']].head(10)"
   ]
  },
  {
   "cell_type": "markdown",
   "id": "d8dc765f",
   "metadata": {},
   "source": [
    "Reviews"
   ]
  },
  {
   "cell_type": "code",
   "execution_count": 25,
   "id": "575537af",
   "metadata": {},
   "outputs": [
    {
     "data": {
      "text/html": [
       "<div>\n",
       "<style scoped>\n",
       "    .dataframe tbody tr th:only-of-type {\n",
       "        vertical-align: middle;\n",
       "    }\n",
       "\n",
       "    .dataframe tbody tr th {\n",
       "        vertical-align: top;\n",
       "    }\n",
       "\n",
       "    .dataframe thead th {\n",
       "        text-align: right;\n",
       "    }\n",
       "</style>\n",
       "<table border=\"1\" class=\"dataframe\">\n",
       "  <thead>\n",
       "    <tr style=\"text-align: right;\">\n",
       "      <th></th>\n",
       "      <th>reviews_list</th>\n",
       "    </tr>\n",
       "  </thead>\n",
       "  <tbody>\n",
       "    <tr>\n",
       "      <th>0</th>\n",
       "      <td>[('Rated 4.0', 'RATED\\n  A beautiful place to ...</td>\n",
       "    </tr>\n",
       "    <tr>\n",
       "      <th>1</th>\n",
       "      <td>[('Rated 4.0', 'RATED\\n  Had been here for din...</td>\n",
       "    </tr>\n",
       "    <tr>\n",
       "      <th>2</th>\n",
       "      <td>[('Rated 3.0', \"RATED\\n  Ambience is not that ...</td>\n",
       "    </tr>\n",
       "    <tr>\n",
       "      <th>3</th>\n",
       "      <td>[('Rated 4.0', \"RATED\\n  Great food and proper...</td>\n",
       "    </tr>\n",
       "    <tr>\n",
       "      <th>4</th>\n",
       "      <td>[('Rated 4.0', 'RATED\\n  Very good restaurant ...</td>\n",
       "    </tr>\n",
       "    <tr>\n",
       "      <th>5</th>\n",
       "      <td>[('Rated 3.0', 'RATED\\n  Food 3/5\\nAmbience 3/...</td>\n",
       "    </tr>\n",
       "    <tr>\n",
       "      <th>6</th>\n",
       "      <td>[('Rated 5.0', 'RATED\\n  I personally really l...</td>\n",
       "    </tr>\n",
       "    <tr>\n",
       "      <th>7</th>\n",
       "      <td>[('Rated 3.0', \"RATED\\n  I had been to this pl...</td>\n",
       "    </tr>\n",
       "    <tr>\n",
       "      <th>8</th>\n",
       "      <td>[('Rated 4.0', \"RATED\\n  Easy to locate\\nVFM 3...</td>\n",
       "    </tr>\n",
       "    <tr>\n",
       "      <th>9</th>\n",
       "      <td>[('Rated 4.0', 'RATED\\n  We ended up here on a...</td>\n",
       "    </tr>\n",
       "  </tbody>\n",
       "</table>\n",
       "</div>"
      ],
      "text/plain": [
       "                                        reviews_list\n",
       "0  [('Rated 4.0', 'RATED\\n  A beautiful place to ...\n",
       "1  [('Rated 4.0', 'RATED\\n  Had been here for din...\n",
       "2  [('Rated 3.0', \"RATED\\n  Ambience is not that ...\n",
       "3  [('Rated 4.0', \"RATED\\n  Great food and proper...\n",
       "4  [('Rated 4.0', 'RATED\\n  Very good restaurant ...\n",
       "5  [('Rated 3.0', 'RATED\\n  Food 3/5\\nAmbience 3/...\n",
       "6  [('Rated 5.0', 'RATED\\n  I personally really l...\n",
       "7  [('Rated 3.0', \"RATED\\n  I had been to this pl...\n",
       "8  [('Rated 4.0', \"RATED\\n  Easy to locate\\nVFM 3...\n",
       "9  [('Rated 4.0', 'RATED\\n  We ended up here on a..."
      ]
     },
     "execution_count": 25,
     "metadata": {},
     "output_type": "execute_result"
    }
   ],
   "source": [
    "#Review sample data\n",
    "df[['reviews_list']].head(10)"
   ]
  },
  {
   "cell_type": "code",
   "execution_count": 26,
   "id": "b5ffa3ef",
   "metadata": {},
   "outputs": [
    {
     "data": {
      "text/html": [
       "<div>\n",
       "<style scoped>\n",
       "    .dataframe tbody tr th:only-of-type {\n",
       "        vertical-align: middle;\n",
       "    }\n",
       "\n",
       "    .dataframe tbody tr th {\n",
       "        vertical-align: top;\n",
       "    }\n",
       "\n",
       "    .dataframe thead th {\n",
       "        text-align: right;\n",
       "    }\n",
       "</style>\n",
       "<table border=\"1\" class=\"dataframe\">\n",
       "  <thead>\n",
       "    <tr style=\"text-align: right;\">\n",
       "      <th></th>\n",
       "      <th>reviews_list</th>\n",
       "    </tr>\n",
       "  </thead>\n",
       "  <tbody>\n",
       "    <tr>\n",
       "      <th>0</th>\n",
       "      <td>[('rated 4.0', 'rated\\n  a beautiful place to ...</td>\n",
       "    </tr>\n",
       "    <tr>\n",
       "      <th>1</th>\n",
       "      <td>[('rated 4.0', 'rated\\n  had been here for din...</td>\n",
       "    </tr>\n",
       "    <tr>\n",
       "      <th>2</th>\n",
       "      <td>[('rated 3.0', \"rated\\n  ambience is not that ...</td>\n",
       "    </tr>\n",
       "    <tr>\n",
       "      <th>3</th>\n",
       "      <td>[('rated 4.0', \"rated\\n  great food and proper...</td>\n",
       "    </tr>\n",
       "    <tr>\n",
       "      <th>4</th>\n",
       "      <td>[('rated 4.0', 'rated\\n  very good restaurant ...</td>\n",
       "    </tr>\n",
       "    <tr>\n",
       "      <th>5</th>\n",
       "      <td>[('rated 3.0', 'rated\\n  food 3/5\\nambience 3/...</td>\n",
       "    </tr>\n",
       "    <tr>\n",
       "      <th>6</th>\n",
       "      <td>[('rated 5.0', 'rated\\n  i personally really l...</td>\n",
       "    </tr>\n",
       "    <tr>\n",
       "      <th>7</th>\n",
       "      <td>[('rated 3.0', \"rated\\n  i had been to this pl...</td>\n",
       "    </tr>\n",
       "    <tr>\n",
       "      <th>8</th>\n",
       "      <td>[('rated 4.0', \"rated\\n  easy to locate\\nvfm 3...</td>\n",
       "    </tr>\n",
       "    <tr>\n",
       "      <th>9</th>\n",
       "      <td>[('rated 4.0', 'rated\\n  we ended up here on a...</td>\n",
       "    </tr>\n",
       "  </tbody>\n",
       "</table>\n",
       "</div>"
      ],
      "text/plain": [
       "                                        reviews_list\n",
       "0  [('rated 4.0', 'rated\\n  a beautiful place to ...\n",
       "1  [('rated 4.0', 'rated\\n  had been here for din...\n",
       "2  [('rated 3.0', \"rated\\n  ambience is not that ...\n",
       "3  [('rated 4.0', \"rated\\n  great food and proper...\n",
       "4  [('rated 4.0', 'rated\\n  very good restaurant ...\n",
       "5  [('rated 3.0', 'rated\\n  food 3/5\\nambience 3/...\n",
       "6  [('rated 5.0', 'rated\\n  i personally really l...\n",
       "7  [('rated 3.0', \"rated\\n  i had been to this pl...\n",
       "8  [('rated 4.0', \"rated\\n  easy to locate\\nvfm 3...\n",
       "9  [('rated 4.0', 'rated\\n  we ended up here on a..."
      ]
     },
     "execution_count": 26,
     "metadata": {},
     "output_type": "execute_result"
    }
   ],
   "source": [
    "#Lower Casing of Reviews\n",
    "df[\"reviews_list\"] = df[\"reviews_list\"].str.lower()\n",
    "df[['reviews_list']].head(10)"
   ]
  },
  {
   "cell_type": "code",
   "execution_count": 27,
   "id": "01932ad6",
   "metadata": {},
   "outputs": [
    {
     "data": {
      "text/html": [
       "<div>\n",
       "<style scoped>\n",
       "    .dataframe tbody tr th:only-of-type {\n",
       "        vertical-align: middle;\n",
       "    }\n",
       "\n",
       "    .dataframe tbody tr th {\n",
       "        vertical-align: top;\n",
       "    }\n",
       "\n",
       "    .dataframe thead th {\n",
       "        text-align: right;\n",
       "    }\n",
       "</style>\n",
       "<table border=\"1\" class=\"dataframe\">\n",
       "  <thead>\n",
       "    <tr style=\"text-align: right;\">\n",
       "      <th></th>\n",
       "      <th>reviews_list</th>\n",
       "    </tr>\n",
       "  </thead>\n",
       "  <tbody>\n",
       "    <tr>\n",
       "      <th>0</th>\n",
       "      <td>rated 40 ratedn  a beautiful place to dine int...</td>\n",
       "    </tr>\n",
       "    <tr>\n",
       "      <th>1</th>\n",
       "      <td>rated 40 ratedn  had been here for dinner with...</td>\n",
       "    </tr>\n",
       "    <tr>\n",
       "      <th>2</th>\n",
       "      <td>rated 30 ratedn  ambience is not that good eno...</td>\n",
       "    </tr>\n",
       "    <tr>\n",
       "      <th>3</th>\n",
       "      <td>rated 40 ratedn  great food and proper karnata...</td>\n",
       "    </tr>\n",
       "    <tr>\n",
       "      <th>4</th>\n",
       "      <td>rated 40 ratedn  very good restaurant in neigh...</td>\n",
       "    </tr>\n",
       "    <tr>\n",
       "      <th>5</th>\n",
       "      <td>rated 30 ratedn  food 35nambience 35nservice 3...</td>\n",
       "    </tr>\n",
       "    <tr>\n",
       "      <th>6</th>\n",
       "      <td>rated 50 ratedn  i personally really liked thi...</td>\n",
       "    </tr>\n",
       "    <tr>\n",
       "      <th>7</th>\n",
       "      <td>rated 30 ratedn  i had been to this place with...</td>\n",
       "    </tr>\n",
       "    <tr>\n",
       "      <th>8</th>\n",
       "      <td>rated 40 ratedn  easy to locatenvfm 355ntaste ...</td>\n",
       "    </tr>\n",
       "    <tr>\n",
       "      <th>9</th>\n",
       "      <td>rated 40 ratedn  we ended up here on a saturda...</td>\n",
       "    </tr>\n",
       "  </tbody>\n",
       "</table>\n",
       "</div>"
      ],
      "text/plain": [
       "                                        reviews_list\n",
       "0  rated 40 ratedn  a beautiful place to dine int...\n",
       "1  rated 40 ratedn  had been here for dinner with...\n",
       "2  rated 30 ratedn  ambience is not that good eno...\n",
       "3  rated 40 ratedn  great food and proper karnata...\n",
       "4  rated 40 ratedn  very good restaurant in neigh...\n",
       "5  rated 30 ratedn  food 35nambience 35nservice 3...\n",
       "6  rated 50 ratedn  i personally really liked thi...\n",
       "7  rated 30 ratedn  i had been to this place with...\n",
       "8  rated 40 ratedn  easy to locatenvfm 355ntaste ...\n",
       "9  rated 40 ratedn  we ended up here on a saturda..."
      ]
     },
     "execution_count": 27,
     "metadata": {},
     "output_type": "execute_result"
    }
   ],
   "source": [
    "#Removal of Puctuations in Reviews\n",
    "def without_punctuation(text):\n",
    "    # Remove punctuation using regular expressions\n",
    "    text_without_punct = re.sub(r'[^\\w\\s]', '', text)\n",
    "    return text_without_punct\n",
    "\n",
    "df['reviews_list'] = df['reviews_list'].apply(without_punctuation)\n",
    "df[['reviews_list']].head(10)"
   ]
  },
  {
   "cell_type": "code",
   "execution_count": 28,
   "id": "c36d86c9",
   "metadata": {},
   "outputs": [
    {
     "data": {
      "text/html": [
       "<div>\n",
       "<style scoped>\n",
       "    .dataframe tbody tr th:only-of-type {\n",
       "        vertical-align: middle;\n",
       "    }\n",
       "\n",
       "    .dataframe tbody tr th {\n",
       "        vertical-align: top;\n",
       "    }\n",
       "\n",
       "    .dataframe thead th {\n",
       "        text-align: right;\n",
       "    }\n",
       "</style>\n",
       "<table border=\"1\" class=\"dataframe\">\n",
       "  <thead>\n",
       "    <tr style=\"text-align: right;\">\n",
       "      <th></th>\n",
       "      <th>reviews_list</th>\n",
       "    </tr>\n",
       "  </thead>\n",
       "  <tbody>\n",
       "    <tr>\n",
       "      <th>0</th>\n",
       "      <td>beautiful place dine inthe interiors take back...</td>\n",
       "    </tr>\n",
       "    <tr>\n",
       "      <th>1</th>\n",
       "      <td>dinner family turned good choose suitable ages...</td>\n",
       "    </tr>\n",
       "    <tr>\n",
       "      <th>2</th>\n",
       "      <td>ambience good enough pocket friendly cafe quan...</td>\n",
       "    </tr>\n",
       "    <tr>\n",
       "      <th>3</th>\n",
       "      <td>great food proper karnataka style full meals t...</td>\n",
       "    </tr>\n",
       "    <tr>\n",
       "      <th>4</th>\n",
       "      <td>good restaurant neighbourhood buffet system pr...</td>\n",
       "    </tr>\n",
       "    <tr>\n",
       "      <th>5</th>\n",
       "      <td>food 35nambience 35nservice 35nnhad family lun...</td>\n",
       "    </tr>\n",
       "    <tr>\n",
       "      <th>6</th>\n",
       "      <td>personally really liked place ambience rooftop...</td>\n",
       "    </tr>\n",
       "    <tr>\n",
       "      <th>7</th>\n",
       "      <td>place one friends small place decent nice plac...</td>\n",
       "    </tr>\n",
       "    <tr>\n",
       "      <th>8</th>\n",
       "      <td>easy locatenvfm 355ntaste 55nyummy cheesyyy fr...</td>\n",
       "    </tr>\n",
       "    <tr>\n",
       "      <th>9</th>\n",
       "      <td>ended saturday afternoon hectic daynthe food g...</td>\n",
       "    </tr>\n",
       "  </tbody>\n",
       "</table>\n",
       "</div>"
      ],
      "text/plain": [
       "                                        reviews_list\n",
       "0  beautiful place dine inthe interiors take back...\n",
       "1  dinner family turned good choose suitable ages...\n",
       "2  ambience good enough pocket friendly cafe quan...\n",
       "3  great food proper karnataka style full meals t...\n",
       "4  good restaurant neighbourhood buffet system pr...\n",
       "5  food 35nambience 35nservice 35nnhad family lun...\n",
       "6  personally really liked place ambience rooftop...\n",
       "7  place one friends small place decent nice plac...\n",
       "8  easy locatenvfm 355ntaste 55nyummy cheesyyy fr...\n",
       "9  ended saturday afternoon hectic daynthe food g..."
      ]
     },
     "execution_count": 28,
     "metadata": {},
     "output_type": "execute_result"
    }
   ],
   "source": [
    "#Removal of Stopwords in Reviews\n",
    "stop_words = set(stopwords.words('english'))\n",
    "\n",
    "def without_stopwords(text):\n",
    "    # Remove \"rated number\" pattern\n",
    "    text = re.sub(r'rated \\d+ ratedn', '', text)\n",
    "    # Remove \"ratedn\" pattern\n",
    "    text = re.sub(r'ratedn', '', text)\n",
    "    \n",
    "    tokens = word_tokenize(text)\n",
    "    filtered_tokens = [token for token in tokens if token.lower() not in stop_words]\n",
    "    return ' '.join(filtered_tokens)\n",
    "\n",
    "df['reviews_list'] = df['reviews_list'].apply(without_stopwords)\n",
    "df[['reviews_list']].head(10)"
   ]
  },
  {
   "cell_type": "markdown",
   "id": "d4968ae0",
   "metadata": {},
   "source": [
    "Cuisines"
   ]
  },
  {
   "cell_type": "code",
   "execution_count": 29,
   "id": "f68c446f",
   "metadata": {},
   "outputs": [
    {
     "data": {
      "text/html": [
       "<div>\n",
       "<style scoped>\n",
       "    .dataframe tbody tr th:only-of-type {\n",
       "        vertical-align: middle;\n",
       "    }\n",
       "\n",
       "    .dataframe tbody tr th {\n",
       "        vertical-align: top;\n",
       "    }\n",
       "\n",
       "    .dataframe thead th {\n",
       "        text-align: right;\n",
       "    }\n",
       "</style>\n",
       "<table border=\"1\" class=\"dataframe\">\n",
       "  <thead>\n",
       "    <tr style=\"text-align: right;\">\n",
       "      <th></th>\n",
       "      <th>cuisines</th>\n",
       "    </tr>\n",
       "  </thead>\n",
       "  <tbody>\n",
       "    <tr>\n",
       "      <th>0</th>\n",
       "      <td>North Indian, Mughlai, Chinese</td>\n",
       "    </tr>\n",
       "    <tr>\n",
       "      <th>1</th>\n",
       "      <td>Chinese, North Indian, Thai</td>\n",
       "    </tr>\n",
       "    <tr>\n",
       "      <th>2</th>\n",
       "      <td>Cafe, Mexican, Italian</td>\n",
       "    </tr>\n",
       "    <tr>\n",
       "      <th>3</th>\n",
       "      <td>South Indian, North Indian</td>\n",
       "    </tr>\n",
       "    <tr>\n",
       "      <th>4</th>\n",
       "      <td>North Indian, Rajasthani</td>\n",
       "    </tr>\n",
       "    <tr>\n",
       "      <th>5</th>\n",
       "      <td>North Indian</td>\n",
       "    </tr>\n",
       "    <tr>\n",
       "      <th>6</th>\n",
       "      <td>Pizza, Cafe, Italian</td>\n",
       "    </tr>\n",
       "    <tr>\n",
       "      <th>7</th>\n",
       "      <td>Cafe, Italian, Continental</td>\n",
       "    </tr>\n",
       "    <tr>\n",
       "      <th>8</th>\n",
       "      <td>Cafe, Mexican, Italian, Momos, Beverages</td>\n",
       "    </tr>\n",
       "    <tr>\n",
       "      <th>9</th>\n",
       "      <td>Cafe</td>\n",
       "    </tr>\n",
       "  </tbody>\n",
       "</table>\n",
       "</div>"
      ],
      "text/plain": [
       "                                   cuisines\n",
       "0            North Indian, Mughlai, Chinese\n",
       "1               Chinese, North Indian, Thai\n",
       "2                    Cafe, Mexican, Italian\n",
       "3                South Indian, North Indian\n",
       "4                  North Indian, Rajasthani\n",
       "5                              North Indian\n",
       "6                      Pizza, Cafe, Italian\n",
       "7                Cafe, Italian, Continental\n",
       "8  Cafe, Mexican, Italian, Momos, Beverages\n",
       "9                                      Cafe"
      ]
     },
     "execution_count": 29,
     "metadata": {},
     "output_type": "execute_result"
    }
   ],
   "source": [
    "#Review sample data\n",
    "df[['cuisines']].head(10)"
   ]
  },
  {
   "cell_type": "code",
   "execution_count": 30,
   "id": "8acb95a1",
   "metadata": {},
   "outputs": [
    {
     "data": {
      "text/html": [
       "<div>\n",
       "<style scoped>\n",
       "    .dataframe tbody tr th:only-of-type {\n",
       "        vertical-align: middle;\n",
       "    }\n",
       "\n",
       "    .dataframe tbody tr th {\n",
       "        vertical-align: top;\n",
       "    }\n",
       "\n",
       "    .dataframe thead th {\n",
       "        text-align: right;\n",
       "    }\n",
       "</style>\n",
       "<table border=\"1\" class=\"dataframe\">\n",
       "  <thead>\n",
       "    <tr style=\"text-align: right;\">\n",
       "      <th></th>\n",
       "      <th>rest_id</th>\n",
       "      <th>url</th>\n",
       "      <th>name</th>\n",
       "      <th>online_order</th>\n",
       "      <th>book_table</th>\n",
       "      <th>rate</th>\n",
       "      <th>votes</th>\n",
       "      <th>location</th>\n",
       "      <th>rest_type</th>\n",
       "      <th>dish_liked</th>\n",
       "      <th>cuisines</th>\n",
       "      <th>cost</th>\n",
       "      <th>reviews_list</th>\n",
       "    </tr>\n",
       "  </thead>\n",
       "  <tbody>\n",
       "    <tr>\n",
       "      <th>0</th>\n",
       "      <td>1</td>\n",
       "      <td>https://www.zomato.com/bangalore/jalsa-banasha...</td>\n",
       "      <td>Jalsa</td>\n",
       "      <td>True</td>\n",
       "      <td>True</td>\n",
       "      <td>4.1</td>\n",
       "      <td>775</td>\n",
       "      <td>Banashankari</td>\n",
       "      <td>Casual Dining</td>\n",
       "      <td>Pasta, Lunch Buffet, Masala Papad, Paneer Laja...</td>\n",
       "      <td>North Indian</td>\n",
       "      <td>800.0</td>\n",
       "      <td>beautiful place dine inthe interiors take back...</td>\n",
       "    </tr>\n",
       "    <tr>\n",
       "      <th>1</th>\n",
       "      <td>1</td>\n",
       "      <td>https://www.zomato.com/bangalore/jalsa-banasha...</td>\n",
       "      <td>Jalsa</td>\n",
       "      <td>True</td>\n",
       "      <td>True</td>\n",
       "      <td>4.1</td>\n",
       "      <td>775</td>\n",
       "      <td>Banashankari</td>\n",
       "      <td>Casual Dining</td>\n",
       "      <td>Pasta, Lunch Buffet, Masala Papad, Paneer Laja...</td>\n",
       "      <td>Mughlai</td>\n",
       "      <td>800.0</td>\n",
       "      <td>beautiful place dine inthe interiors take back...</td>\n",
       "    </tr>\n",
       "    <tr>\n",
       "      <th>2</th>\n",
       "      <td>1</td>\n",
       "      <td>https://www.zomato.com/bangalore/jalsa-banasha...</td>\n",
       "      <td>Jalsa</td>\n",
       "      <td>True</td>\n",
       "      <td>True</td>\n",
       "      <td>4.1</td>\n",
       "      <td>775</td>\n",
       "      <td>Banashankari</td>\n",
       "      <td>Casual Dining</td>\n",
       "      <td>Pasta, Lunch Buffet, Masala Papad, Paneer Laja...</td>\n",
       "      <td>Chinese</td>\n",
       "      <td>800.0</td>\n",
       "      <td>beautiful place dine inthe interiors take back...</td>\n",
       "    </tr>\n",
       "    <tr>\n",
       "      <th>3</th>\n",
       "      <td>2</td>\n",
       "      <td>https://www.zomato.com/bangalore/spice-elephan...</td>\n",
       "      <td>Spice Elephant</td>\n",
       "      <td>True</td>\n",
       "      <td>False</td>\n",
       "      <td>4.1</td>\n",
       "      <td>787</td>\n",
       "      <td>Banashankari</td>\n",
       "      <td>Casual Dining</td>\n",
       "      <td>Momos, Lunch Buffet, Chocolate Nirvana, Thai G...</td>\n",
       "      <td>Chinese</td>\n",
       "      <td>800.0</td>\n",
       "      <td>dinner family turned good choose suitable ages...</td>\n",
       "    </tr>\n",
       "    <tr>\n",
       "      <th>4</th>\n",
       "      <td>2</td>\n",
       "      <td>https://www.zomato.com/bangalore/spice-elephan...</td>\n",
       "      <td>Spice Elephant</td>\n",
       "      <td>True</td>\n",
       "      <td>False</td>\n",
       "      <td>4.1</td>\n",
       "      <td>787</td>\n",
       "      <td>Banashankari</td>\n",
       "      <td>Casual Dining</td>\n",
       "      <td>Momos, Lunch Buffet, Chocolate Nirvana, Thai G...</td>\n",
       "      <td>North Indian</td>\n",
       "      <td>800.0</td>\n",
       "      <td>dinner family turned good choose suitable ages...</td>\n",
       "    </tr>\n",
       "  </tbody>\n",
       "</table>\n",
       "</div>"
      ],
      "text/plain": [
       "   rest_id                                                url            name  \\\n",
       "0        1  https://www.zomato.com/bangalore/jalsa-banasha...           Jalsa   \n",
       "1        1  https://www.zomato.com/bangalore/jalsa-banasha...           Jalsa   \n",
       "2        1  https://www.zomato.com/bangalore/jalsa-banasha...           Jalsa   \n",
       "3        2  https://www.zomato.com/bangalore/spice-elephan...  Spice Elephant   \n",
       "4        2  https://www.zomato.com/bangalore/spice-elephan...  Spice Elephant   \n",
       "\n",
       "   online_order  book_table rate  votes      location      rest_type  \\\n",
       "0          True        True  4.1    775  Banashankari  Casual Dining   \n",
       "1          True        True  4.1    775  Banashankari  Casual Dining   \n",
       "2          True        True  4.1    775  Banashankari  Casual Dining   \n",
       "3          True       False  4.1    787  Banashankari  Casual Dining   \n",
       "4          True       False  4.1    787  Banashankari  Casual Dining   \n",
       "\n",
       "                                          dish_liked      cuisines   cost  \\\n",
       "0  Pasta, Lunch Buffet, Masala Papad, Paneer Laja...  North Indian  800.0   \n",
       "1  Pasta, Lunch Buffet, Masala Papad, Paneer Laja...       Mughlai  800.0   \n",
       "2  Pasta, Lunch Buffet, Masala Papad, Paneer Laja...       Chinese  800.0   \n",
       "3  Momos, Lunch Buffet, Chocolate Nirvana, Thai G...       Chinese  800.0   \n",
       "4  Momos, Lunch Buffet, Chocolate Nirvana, Thai G...  North Indian  800.0   \n",
       "\n",
       "                                        reviews_list  \n",
       "0  beautiful place dine inthe interiors take back...  \n",
       "1  beautiful place dine inthe interiors take back...  \n",
       "2  beautiful place dine inthe interiors take back...  \n",
       "3  dinner family turned good choose suitable ages...  \n",
       "4  dinner family turned good choose suitable ages...  "
      ]
     },
     "execution_count": 30,
     "metadata": {},
     "output_type": "execute_result"
    }
   ],
   "source": [
    "#Split the cuisines\n",
    "df['cuisines'] = df['cuisines'].str.split(', ')\n",
    "\n",
    "#Explode the list of cuisines into separate rows\n",
    "df = df.explode('cuisines')\n",
    "\n",
    "#Reset the index\n",
    "df = df.reset_index(drop=True)\n",
    "\n",
    "df.head()"
   ]
  },
  {
   "cell_type": "markdown",
   "id": "0aa44d63",
   "metadata": {},
   "source": [
    "Restaurant Type"
   ]
  },
  {
   "cell_type": "code",
   "execution_count": 31,
   "id": "3179665c",
   "metadata": {},
   "outputs": [
    {
     "data": {
      "text/html": [
       "<div>\n",
       "<style scoped>\n",
       "    .dataframe tbody tr th:only-of-type {\n",
       "        vertical-align: middle;\n",
       "    }\n",
       "\n",
       "    .dataframe tbody tr th {\n",
       "        vertical-align: top;\n",
       "    }\n",
       "\n",
       "    .dataframe thead th {\n",
       "        text-align: right;\n",
       "    }\n",
       "</style>\n",
       "<table border=\"1\" class=\"dataframe\">\n",
       "  <thead>\n",
       "    <tr style=\"text-align: right;\">\n",
       "      <th></th>\n",
       "      <th>rest_type</th>\n",
       "    </tr>\n",
       "  </thead>\n",
       "  <tbody>\n",
       "    <tr>\n",
       "      <th>0</th>\n",
       "      <td>Casual Dining</td>\n",
       "    </tr>\n",
       "    <tr>\n",
       "      <th>1</th>\n",
       "      <td>Casual Dining</td>\n",
       "    </tr>\n",
       "    <tr>\n",
       "      <th>2</th>\n",
       "      <td>Casual Dining</td>\n",
       "    </tr>\n",
       "    <tr>\n",
       "      <th>3</th>\n",
       "      <td>Casual Dining</td>\n",
       "    </tr>\n",
       "    <tr>\n",
       "      <th>4</th>\n",
       "      <td>Casual Dining</td>\n",
       "    </tr>\n",
       "    <tr>\n",
       "      <th>5</th>\n",
       "      <td>Casual Dining</td>\n",
       "    </tr>\n",
       "    <tr>\n",
       "      <th>6</th>\n",
       "      <td>Cafe, Casual Dining</td>\n",
       "    </tr>\n",
       "    <tr>\n",
       "      <th>7</th>\n",
       "      <td>Cafe, Casual Dining</td>\n",
       "    </tr>\n",
       "    <tr>\n",
       "      <th>8</th>\n",
       "      <td>Cafe, Casual Dining</td>\n",
       "    </tr>\n",
       "    <tr>\n",
       "      <th>9</th>\n",
       "      <td>Quick Bites</td>\n",
       "    </tr>\n",
       "  </tbody>\n",
       "</table>\n",
       "</div>"
      ],
      "text/plain": [
       "             rest_type\n",
       "0        Casual Dining\n",
       "1        Casual Dining\n",
       "2        Casual Dining\n",
       "3        Casual Dining\n",
       "4        Casual Dining\n",
       "5        Casual Dining\n",
       "6  Cafe, Casual Dining\n",
       "7  Cafe, Casual Dining\n",
       "8  Cafe, Casual Dining\n",
       "9          Quick Bites"
      ]
     },
     "execution_count": 31,
     "metadata": {},
     "output_type": "execute_result"
    }
   ],
   "source": [
    "#Review sample data\n",
    "df[['rest_type']].head(10)"
   ]
  },
  {
   "cell_type": "code",
   "execution_count": 32,
   "id": "befd10ee",
   "metadata": {},
   "outputs": [
    {
     "data": {
      "text/html": [
       "<div>\n",
       "<style scoped>\n",
       "    .dataframe tbody tr th:only-of-type {\n",
       "        vertical-align: middle;\n",
       "    }\n",
       "\n",
       "    .dataframe tbody tr th {\n",
       "        vertical-align: top;\n",
       "    }\n",
       "\n",
       "    .dataframe thead th {\n",
       "        text-align: right;\n",
       "    }\n",
       "</style>\n",
       "<table border=\"1\" class=\"dataframe\">\n",
       "  <thead>\n",
       "    <tr style=\"text-align: right;\">\n",
       "      <th></th>\n",
       "      <th>rest_id</th>\n",
       "      <th>url</th>\n",
       "      <th>name</th>\n",
       "      <th>online_order</th>\n",
       "      <th>book_table</th>\n",
       "      <th>rate</th>\n",
       "      <th>votes</th>\n",
       "      <th>location</th>\n",
       "      <th>rest_type</th>\n",
       "      <th>dish_liked</th>\n",
       "      <th>cuisines</th>\n",
       "      <th>cost</th>\n",
       "      <th>reviews_list</th>\n",
       "    </tr>\n",
       "  </thead>\n",
       "  <tbody>\n",
       "    <tr>\n",
       "      <th>0</th>\n",
       "      <td>1</td>\n",
       "      <td>https://www.zomato.com/bangalore/jalsa-banasha...</td>\n",
       "      <td>Jalsa</td>\n",
       "      <td>True</td>\n",
       "      <td>True</td>\n",
       "      <td>4.1</td>\n",
       "      <td>775</td>\n",
       "      <td>Banashankari</td>\n",
       "      <td>Casual Dining</td>\n",
       "      <td>Pasta, Lunch Buffet, Masala Papad, Paneer Laja...</td>\n",
       "      <td>North Indian</td>\n",
       "      <td>800.0</td>\n",
       "      <td>beautiful place dine inthe interiors take back...</td>\n",
       "    </tr>\n",
       "    <tr>\n",
       "      <th>1</th>\n",
       "      <td>1</td>\n",
       "      <td>https://www.zomato.com/bangalore/jalsa-banasha...</td>\n",
       "      <td>Jalsa</td>\n",
       "      <td>True</td>\n",
       "      <td>True</td>\n",
       "      <td>4.1</td>\n",
       "      <td>775</td>\n",
       "      <td>Banashankari</td>\n",
       "      <td>Casual Dining</td>\n",
       "      <td>Pasta, Lunch Buffet, Masala Papad, Paneer Laja...</td>\n",
       "      <td>Mughlai</td>\n",
       "      <td>800.0</td>\n",
       "      <td>beautiful place dine inthe interiors take back...</td>\n",
       "    </tr>\n",
       "    <tr>\n",
       "      <th>2</th>\n",
       "      <td>1</td>\n",
       "      <td>https://www.zomato.com/bangalore/jalsa-banasha...</td>\n",
       "      <td>Jalsa</td>\n",
       "      <td>True</td>\n",
       "      <td>True</td>\n",
       "      <td>4.1</td>\n",
       "      <td>775</td>\n",
       "      <td>Banashankari</td>\n",
       "      <td>Casual Dining</td>\n",
       "      <td>Pasta, Lunch Buffet, Masala Papad, Paneer Laja...</td>\n",
       "      <td>Chinese</td>\n",
       "      <td>800.0</td>\n",
       "      <td>beautiful place dine inthe interiors take back...</td>\n",
       "    </tr>\n",
       "    <tr>\n",
       "      <th>3</th>\n",
       "      <td>2</td>\n",
       "      <td>https://www.zomato.com/bangalore/spice-elephan...</td>\n",
       "      <td>Spice Elephant</td>\n",
       "      <td>True</td>\n",
       "      <td>False</td>\n",
       "      <td>4.1</td>\n",
       "      <td>787</td>\n",
       "      <td>Banashankari</td>\n",
       "      <td>Casual Dining</td>\n",
       "      <td>Momos, Lunch Buffet, Chocolate Nirvana, Thai G...</td>\n",
       "      <td>Chinese</td>\n",
       "      <td>800.0</td>\n",
       "      <td>dinner family turned good choose suitable ages...</td>\n",
       "    </tr>\n",
       "    <tr>\n",
       "      <th>4</th>\n",
       "      <td>2</td>\n",
       "      <td>https://www.zomato.com/bangalore/spice-elephan...</td>\n",
       "      <td>Spice Elephant</td>\n",
       "      <td>True</td>\n",
       "      <td>False</td>\n",
       "      <td>4.1</td>\n",
       "      <td>787</td>\n",
       "      <td>Banashankari</td>\n",
       "      <td>Casual Dining</td>\n",
       "      <td>Momos, Lunch Buffet, Chocolate Nirvana, Thai G...</td>\n",
       "      <td>North Indian</td>\n",
       "      <td>800.0</td>\n",
       "      <td>dinner family turned good choose suitable ages...</td>\n",
       "    </tr>\n",
       "  </tbody>\n",
       "</table>\n",
       "</div>"
      ],
      "text/plain": [
       "   rest_id                                                url            name  \\\n",
       "0        1  https://www.zomato.com/bangalore/jalsa-banasha...           Jalsa   \n",
       "1        1  https://www.zomato.com/bangalore/jalsa-banasha...           Jalsa   \n",
       "2        1  https://www.zomato.com/bangalore/jalsa-banasha...           Jalsa   \n",
       "3        2  https://www.zomato.com/bangalore/spice-elephan...  Spice Elephant   \n",
       "4        2  https://www.zomato.com/bangalore/spice-elephan...  Spice Elephant   \n",
       "\n",
       "   online_order  book_table rate  votes      location      rest_type  \\\n",
       "0          True        True  4.1    775  Banashankari  Casual Dining   \n",
       "1          True        True  4.1    775  Banashankari  Casual Dining   \n",
       "2          True        True  4.1    775  Banashankari  Casual Dining   \n",
       "3          True       False  4.1    787  Banashankari  Casual Dining   \n",
       "4          True       False  4.1    787  Banashankari  Casual Dining   \n",
       "\n",
       "                                          dish_liked      cuisines   cost  \\\n",
       "0  Pasta, Lunch Buffet, Masala Papad, Paneer Laja...  North Indian  800.0   \n",
       "1  Pasta, Lunch Buffet, Masala Papad, Paneer Laja...       Mughlai  800.0   \n",
       "2  Pasta, Lunch Buffet, Masala Papad, Paneer Laja...       Chinese  800.0   \n",
       "3  Momos, Lunch Buffet, Chocolate Nirvana, Thai G...       Chinese  800.0   \n",
       "4  Momos, Lunch Buffet, Chocolate Nirvana, Thai G...  North Indian  800.0   \n",
       "\n",
       "                                        reviews_list  \n",
       "0  beautiful place dine inthe interiors take back...  \n",
       "1  beautiful place dine inthe interiors take back...  \n",
       "2  beautiful place dine inthe interiors take back...  \n",
       "3  dinner family turned good choose suitable ages...  \n",
       "4  dinner family turned good choose suitable ages...  "
      ]
     },
     "execution_count": 32,
     "metadata": {},
     "output_type": "execute_result"
    }
   ],
   "source": [
    "#Split the restaurant types\n",
    "df['rest_type'] = df['rest_type'].str.split(', ')\n",
    "\n",
    "#Explode the list of restaurant types into separate rows\n",
    "df = df.explode('rest_type')\n",
    "\n",
    "#Reset the index\n",
    "df = df.reset_index(drop=True)\n",
    "\n",
    "df.head()"
   ]
  },
  {
   "cell_type": "markdown",
   "id": "c585e00d",
   "metadata": {},
   "source": [
    "Cost"
   ]
  },
  {
   "cell_type": "code",
   "execution_count": 33,
   "id": "727e8803",
   "metadata": {},
   "outputs": [
    {
     "data": {
      "text/plain": [
       "(27414, 13)"
      ]
     },
     "execution_count": 33,
     "metadata": {},
     "output_type": "execute_result"
    }
   ],
   "source": [
    "#Filter the dataframe to include restaurants with cost less than 10\n",
    "cost_lessthan_100 = df[df['cost'] <= 100]\n",
    "cost_lessthan_100.shape"
   ]
  },
  {
   "cell_type": "code",
   "execution_count": 34,
   "id": "db877cbc",
   "metadata": {},
   "outputs": [],
   "source": [
    "#Updating the cost of restaurants with cost less than 10 to 50\n",
    "df.loc[df['cost'] <= 100, 'cost'] = 100"
   ]
  },
  {
   "cell_type": "markdown",
   "id": "cd0e9ad8",
   "metadata": {},
   "source": [
    "We are updating the cost of restaurants that are currently listed as less than Rs.100 because such low cost values seem unrealistic. Therefore, we are setting the starting minimum cost to Rs.100. By making this change, we aim to ensure that the cost values in the dataset better reflect the current pricing trends."
   ]
  },
  {
   "cell_type": "code",
   "execution_count": 35,
   "id": "61bd0a36",
   "metadata": {},
   "outputs": [],
   "source": [
    "#Extracting the 'cost' column as a numpy array\n",
    "cost_values = df['cost'].values.reshape(-1, 1)"
   ]
  },
  {
   "cell_type": "code",
   "execution_count": 36,
   "id": "419354ef",
   "metadata": {},
   "outputs": [],
   "source": [
    "#Defining the number of clusters\n",
    "num_clusters = 3"
   ]
  },
  {
   "cell_type": "code",
   "execution_count": 37,
   "id": "3e9fb6b8",
   "metadata": {},
   "outputs": [
    {
     "data": {
      "text/plain": [
       "KMeans(n_clusters=3, random_state=42)"
      ]
     },
     "execution_count": 37,
     "metadata": {},
     "output_type": "execute_result"
    }
   ],
   "source": [
    "#Performing K-means clustering\n",
    "kmeans = KMeans(n_clusters=num_clusters, random_state=42)\n",
    "kmeans.fit(cost_values)"
   ]
  },
  {
   "cell_type": "code",
   "execution_count": 38,
   "id": "c7c13bc3",
   "metadata": {},
   "outputs": [],
   "source": [
    "#Retrieving the cluster labels\n",
    "cluster_labels = kmeans.labels_"
   ]
  },
  {
   "cell_type": "code",
   "execution_count": 39,
   "id": "aae82ce6",
   "metadata": {},
   "outputs": [],
   "source": [
    "#Adding the cluster labels to the dataframe\n",
    "df['cost_cluster'] = cluster_labels"
   ]
  },
  {
   "cell_type": "code",
   "execution_count": 40,
   "id": "323825d8",
   "metadata": {},
   "outputs": [
    {
     "name": "stdout",
     "output_type": "stream",
     "text": [
      "Cluster 1: 24441 restaurants\n",
      "Cluster 2: 24300 restaurants\n",
      "Cluster 0: 32102 restaurants\n"
     ]
    }
   ],
   "source": [
    "#Retrieving the unique cluster labels\n",
    "unique_clusters = df['cost_cluster'].unique()\n",
    "\n",
    "#Printing the unique cluster labels and their counts\n",
    "for cluster in unique_clusters:\n",
    "    cluster_count = len(df[df['cost_cluster'] == cluster])\n",
    "    print(f\"Cluster {cluster}: {cluster_count} restaurants\")"
   ]
  },
  {
   "cell_type": "code",
   "execution_count": 41,
   "id": "c04c5c67",
   "metadata": {},
   "outputs": [
    {
     "name": "stdout",
     "output_type": "stream",
     "text": [
      "Cluster 1: Rs.600.0 to Rs.950.0\n",
      "Cluster 2: Rs.300.0 to Rs.550.0\n",
      "Cluster 0: Rs.100.0 to Rs.250.0\n"
     ]
    }
   ],
   "source": [
    "#Iterating over the unique clusters\n",
    "for cluster in unique_clusters:\n",
    "    cluster_data = df[df['cost_cluster'] == cluster]\n",
    "    \n",
    "    #Retrieving the minimum and maximum cost values\n",
    "    min_cost = cluster_data['cost'].min()\n",
    "    max_cost = cluster_data['cost'].max()\n",
    "    \n",
    "    #Printing the cost range for the current cluster\n",
    "    print(f\"Cluster {cluster}: Rs.{min_cost} to Rs.{max_cost}\")"
   ]
  },
  {
   "cell_type": "code",
   "execution_count": 42,
   "id": "93575430",
   "metadata": {},
   "outputs": [
    {
     "name": "stdout",
     "output_type": "stream",
     "text": [
      "<class 'pandas.core.frame.DataFrame'>\n",
      "RangeIndex: 80843 entries, 0 to 80842\n",
      "Data columns (total 14 columns):\n",
      " #   Column        Non-Null Count  Dtype  \n",
      "---  ------        --------------  -----  \n",
      " 0   rest_id       80843 non-null  int64  \n",
      " 1   url           80843 non-null  object \n",
      " 2   name          80843 non-null  object \n",
      " 3   online_order  80843 non-null  bool   \n",
      " 4   book_table    80843 non-null  bool   \n",
      " 5   rate          80843 non-null  object \n",
      " 6   votes         80843 non-null  int64  \n",
      " 7   location      80843 non-null  object \n",
      " 8   rest_type     80843 non-null  object \n",
      " 9   dish_liked    80843 non-null  object \n",
      " 10  cuisines      80843 non-null  object \n",
      " 11  cost          80843 non-null  float64\n",
      " 12  reviews_list  80843 non-null  object \n",
      " 13  cost_cluster  80843 non-null  int32  \n",
      "dtypes: bool(2), float64(1), int32(1), int64(2), object(8)\n",
      "memory usage: 7.2+ MB\n"
     ]
    }
   ],
   "source": [
    "df.info()"
   ]
  },
  {
   "cell_type": "code",
   "execution_count": 43,
   "id": "ecac0d8f",
   "metadata": {},
   "outputs": [],
   "source": [
    "#Extract a random 15% of the data\n",
    "sample_df = df.sample(frac=0.15, random_state=42)"
   ]
  },
  {
   "cell_type": "code",
   "execution_count": 44,
   "id": "fdcf2bd6",
   "metadata": {},
   "outputs": [],
   "source": [
    "sample_df.to_excel(\"C:/Users/Green Lantern/OneDrive/Documents/ISB AMPBA Winter 2023/Term 2/Foundational Project 1/FP1_Project 4_Group6_Final/restaurant dataset/zomato2.xlsx\")"
   ]
  },
  {
   "cell_type": "markdown",
   "id": "cdc2478f",
   "metadata": {},
   "source": [
    "#### SPLITTING DATA INTO TRAINING AND TEST DATA"
   ]
  },
  {
   "cell_type": "code",
   "execution_count": 45,
   "id": "b5910a7b",
   "metadata": {},
   "outputs": [],
   "source": [
    "from sklearn.model_selection import train_test_split\n",
    "train_df_0,test_df_0 = train_test_split(sample_df,test_size = 0.22,random_state = 50)"
   ]
  },
  {
   "cell_type": "code",
   "execution_count": 46,
   "id": "640aa0c6",
   "metadata": {},
   "outputs": [
    {
     "data": {
      "text/plain": [
       "(9458, 14)"
      ]
     },
     "execution_count": 46,
     "metadata": {},
     "output_type": "execute_result"
    }
   ],
   "source": [
    "train_df_0.shape"
   ]
  },
  {
   "cell_type": "code",
   "execution_count": 47,
   "id": "2206e7b4",
   "metadata": {},
   "outputs": [
    {
     "data": {
      "text/plain": [
       "(2668, 14)"
      ]
     },
     "execution_count": 47,
     "metadata": {},
     "output_type": "execute_result"
    }
   ],
   "source": [
    "test_df_0.shape"
   ]
  },
  {
   "cell_type": "code",
   "execution_count": 48,
   "id": "3c7da120",
   "metadata": {},
   "outputs": [],
   "source": [
    "#Preserving the original datasets\n",
    "train_df = train_df_0.copy()\n",
    "test_df = test_df_0.copy()"
   ]
  },
  {
   "cell_type": "code",
   "execution_count": 49,
   "id": "7497be7e",
   "metadata": {},
   "outputs": [],
   "source": [
    "train_df.to_excel(\"C:/Users/Green Lantern/OneDrive/Documents/ISB AMPBA Winter 2023/Term 2/Foundational Project 1/FP1_Project 4_Group6_Final/restaurant dataset/zomato_train_df.xlsx\")"
   ]
  },
  {
   "cell_type": "code",
   "execution_count": 50,
   "id": "ef50b765",
   "metadata": {},
   "outputs": [],
   "source": [
    "test_df.to_excel(\"C:/Users/Green Lantern/OneDrive/Documents/ISB AMPBA Winter 2023/Term 2/Foundational Project 1/FP1_Project 4_Group6_Final/restaurant dataset/zomato_test_df.xlsx\")"
   ]
  }
 ],
 "metadata": {
  "kernelspec": {
   "display_name": "Python 3 (ipykernel)",
   "language": "python",
   "name": "python3"
  },
  "language_info": {
   "codemirror_mode": {
    "name": "ipython",
    "version": 3
   },
   "file_extension": ".py",
   "mimetype": "text/x-python",
   "name": "python",
   "nbconvert_exporter": "python",
   "pygments_lexer": "ipython3",
   "version": "3.9.13"
  }
 },
 "nbformat": 4,
 "nbformat_minor": 5
}
