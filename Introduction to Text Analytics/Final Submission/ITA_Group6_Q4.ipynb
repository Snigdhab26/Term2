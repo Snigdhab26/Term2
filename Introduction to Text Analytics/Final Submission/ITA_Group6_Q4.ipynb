{
 "cells": [
  {
   "cell_type": "markdown",
   "id": "af7d6b2e",
   "metadata": {},
   "source": [
    "<h1>Introduction to Text Analytics</h1>\n",
    "<h3>Group Assignment</h3>"
   ]
  },
  {
   "cell_type": "markdown",
   "id": "bc6c0f94",
   "metadata": {},
   "source": [
    "Group 6\n",
    "\n",
    "* Akshay Ramdev - 12220032\n",
    "* Charanjeet Singh - 12220064\n",
    "* Pooja Nilesh Doshi - 12220028\n",
    "* Snigdha Debashis Bhattacharjee - 12220067\n",
    "* Vinayak Dave - 12220047"
   ]
  },
  {
   "cell_type": "markdown",
   "id": "569777c2",
   "metadata": {},
   "source": [
    "## Question 5"
   ]
  },
  {
   "cell_type": "code",
   "execution_count": 5,
   "id": "266d5360",
   "metadata": {},
   "outputs": [
    {
     "name": "stdout",
     "output_type": "stream",
     "text": [
      "                                              reviewText  overall\n",
      "0      They look good and stick good! I just don't li...      4.0\n",
      "1      These stickers work like the review says they ...      5.0\n",
      "2      These are awesome and make my phone look so st...      5.0\n",
      "3      Item arrived in great time and was in perfect ...      4.0\n",
      "4      awesome! stays on, and looks great. can be use...      5.0\n",
      "...                                                  ...      ...\n",
      "49995  I was sceptical about these batteries because ...      5.0\n",
      "49996  These batteries have been great replacements i...      5.0\n",
      "49997  It works. The thunderbolt eats battery life li...      4.0\n",
      "49998  These batteries have held up for over a year n...      4.0\n",
      "49999  I've had my HTC Thunderbolt for almost 2 years...      5.0\n",
      "\n",
      "[50000 rows x 2 columns]\n"
     ]
    }
   ],
   "source": [
    "#Importing libraries\n",
    "import json\n",
    "import pandas as pd\n",
    "import string\n",
    "import math\n",
    "\n",
    "#Omporting Data File\n",
    "file_path = 'C:/Users/SNIGGDHA/dataset.txt'  # Path to the dataset file\n",
    "\n",
    "# Read the dataset file in JSON format and extract review text and overall rating\n",
    "# Create a list to store the extracted reviews\n",
    "reviews = []\n",
    "\n",
    "# Open the dataset file\n",
    "with open(file_path, 'r') as file:\n",
    "    # Iterate over each line in the file\n",
    "    for line in file:\n",
    "        data = json.loads(line)\n",
    "        # Extract the review text and overall rating\n",
    "        review = {\n",
    "            \"reviewText\": data['reviewText'],\n",
    "            \"overall\": data['overall']\n",
    "        }\n",
    "        reviews.append(review)\n",
    "\n",
    "# Convert the list of reviews into a pandas DataFrame\n",
    "df = pd.DataFrame(reviews)\n",
    "\n",
    "print(df)"
   ]
  },
  {
   "cell_type": "code",
   "execution_count": 6,
   "id": "aaa528f0",
   "metadata": {},
   "outputs": [],
   "source": [
    "#Omporting Libraries\n",
    "from sklearn.model_selection import train_test_split\n",
    "from sklearn.feature_extraction.text import TfidfVectorizer\n",
    "from sklearn.naive_bayes import MultinomialNB\n",
    "from sklearn.metrics import classification_report\n"
   ]
  },
  {
   "cell_type": "code",
   "execution_count": 7,
   "id": "c8fcbf9e",
   "metadata": {},
   "outputs": [],
   "source": [
    "#Splitting the dataframe into training and testing datasets\n",
    "train_df,test_df = train_test_split(df,test_size = 0.2,random_state = 50)"
   ]
  },
  {
   "cell_type": "code",
   "execution_count": 8,
   "id": "a3223a2f",
   "metadata": {},
   "outputs": [
    {
     "data": {
      "text/plain": [
       "(                                              reviewText  overall\n",
       " 33433  I bought it for my husband as a birthday gift,...      5.0\n",
       " 17151  Bought this to go along with my wilson sleek, ...      5.0\n",
       " 167    couldnt watch movies on the htc without the ba...      5.0\n",
       " 33841  This is the exact same charger you get with a ...      5.0\n",
       " 48397  It's cute! Got 2 of them ended up giving it to...      5.0\n",
       " ...                                                  ...      ...\n",
       " 48417  Buttons are awesome. Cute buttons are even awe...      5.0\n",
       " 22637  This was a life saver for this phone. The phon...      5.0\n",
       " 42891  I bought this for my mother who is constantly ...      5.0\n",
       " 38368  I ordered this for my step fathers iPhone 4 th...      5.0\n",
       " 14000  Great price and good quality. Lacks protection...      4.0\n",
       " \n",
       " [40000 rows x 2 columns],\n",
       "                                               reviewText  overall\n",
       " 20515  The cords that come with the iPhone and the iP...      5.0\n",
       " 42486  This is a great product. The only problem is t...      5.0\n",
       " 31440  This is the first bluetooth headset I have eve...      5.0\n",
       " 41116  First of all these things are supposed to be t...      1.0\n",
       " 48739  It was purposeful for a couple months but it i...      4.0\n",
       " ...                                                  ...      ...\n",
       " 18847  For my AT&T iPhone 4, it is a perfect fit. I d...      5.0\n",
       " 4351   Can't Complain For The cost, The charger works...      5.0\n",
       " 44317  This product is identical to my charger that c...      5.0\n",
       " 44752  This two port charger works quite well with on...      4.0\n",
       " 37006  This is definitely better than the one that ca...      5.0\n",
       " \n",
       " [10000 rows x 2 columns])"
      ]
     },
     "execution_count": 8,
     "metadata": {},
     "output_type": "execute_result"
    }
   ],
   "source": [
    "train_df,test_df"
   ]
  },
  {
   "cell_type": "code",
   "execution_count": 9,
   "id": "20b3e3d3",
   "metadata": {},
   "outputs": [
    {
     "data": {
      "text/html": [
       "<div>\n",
       "<style scoped>\n",
       "    .dataframe tbody tr th:only-of-type {\n",
       "        vertical-align: middle;\n",
       "    }\n",
       "\n",
       "    .dataframe tbody tr th {\n",
       "        vertical-align: top;\n",
       "    }\n",
       "\n",
       "    .dataframe thead th {\n",
       "        text-align: right;\n",
       "    }\n",
       "</style>\n",
       "<table border=\"1\" class=\"dataframe\">\n",
       "  <thead>\n",
       "    <tr style=\"text-align: right;\">\n",
       "      <th></th>\n",
       "      <th>reviewText</th>\n",
       "      <th>overall</th>\n",
       "    </tr>\n",
       "  </thead>\n",
       "  <tbody>\n",
       "    <tr>\n",
       "      <th>33433</th>\n",
       "      <td>I bought it for my husband as a birthday gift,...</td>\n",
       "      <td>5.0</td>\n",
       "    </tr>\n",
       "    <tr>\n",
       "      <th>17151</th>\n",
       "      <td>Bought this to go along with my wilson sleek, ...</td>\n",
       "      <td>5.0</td>\n",
       "    </tr>\n",
       "    <tr>\n",
       "      <th>167</th>\n",
       "      <td>couldnt watch movies on the htc without the ba...</td>\n",
       "      <td>5.0</td>\n",
       "    </tr>\n",
       "    <tr>\n",
       "      <th>33841</th>\n",
       "      <td>This is the exact same charger you get with a ...</td>\n",
       "      <td>5.0</td>\n",
       "    </tr>\n",
       "    <tr>\n",
       "      <th>48397</th>\n",
       "      <td>It's cute! Got 2 of them ended up giving it to...</td>\n",
       "      <td>5.0</td>\n",
       "    </tr>\n",
       "    <tr>\n",
       "      <th>...</th>\n",
       "      <td>...</td>\n",
       "      <td>...</td>\n",
       "    </tr>\n",
       "    <tr>\n",
       "      <th>48417</th>\n",
       "      <td>Buttons are awesome. Cute buttons are even awe...</td>\n",
       "      <td>5.0</td>\n",
       "    </tr>\n",
       "    <tr>\n",
       "      <th>22637</th>\n",
       "      <td>This was a life saver for this phone. The phon...</td>\n",
       "      <td>5.0</td>\n",
       "    </tr>\n",
       "    <tr>\n",
       "      <th>42891</th>\n",
       "      <td>I bought this for my mother who is constantly ...</td>\n",
       "      <td>5.0</td>\n",
       "    </tr>\n",
       "    <tr>\n",
       "      <th>38368</th>\n",
       "      <td>I ordered this for my step fathers iPhone 4 th...</td>\n",
       "      <td>5.0</td>\n",
       "    </tr>\n",
       "    <tr>\n",
       "      <th>14000</th>\n",
       "      <td>Great price and good quality. Lacks protection...</td>\n",
       "      <td>4.0</td>\n",
       "    </tr>\n",
       "  </tbody>\n",
       "</table>\n",
       "<p>40000 rows × 2 columns</p>\n",
       "</div>"
      ],
      "text/plain": [
       "                                              reviewText  overall\n",
       "33433  I bought it for my husband as a birthday gift,...      5.0\n",
       "17151  Bought this to go along with my wilson sleek, ...      5.0\n",
       "167    couldnt watch movies on the htc without the ba...      5.0\n",
       "33841  This is the exact same charger you get with a ...      5.0\n",
       "48397  It's cute! Got 2 of them ended up giving it to...      5.0\n",
       "...                                                  ...      ...\n",
       "48417  Buttons are awesome. Cute buttons are even awe...      5.0\n",
       "22637  This was a life saver for this phone. The phon...      5.0\n",
       "42891  I bought this for my mother who is constantly ...      5.0\n",
       "38368  I ordered this for my step fathers iPhone 4 th...      5.0\n",
       "14000  Great price and good quality. Lacks protection...      4.0\n",
       "\n",
       "[40000 rows x 2 columns]"
      ]
     },
     "execution_count": 9,
     "metadata": {},
     "output_type": "execute_result"
    }
   ],
   "source": [
    "train_df"
   ]
  },
  {
   "cell_type": "code",
   "execution_count": 10,
   "id": "111541d8",
   "metadata": {},
   "outputs": [],
   "source": [
    "#Creating a TF-IDF vectorizer object\n",
    "vectorizer = TfidfVectorizer(max_features = 50000)"
   ]
  },
  {
   "cell_type": "markdown",
   "id": "ff4291f8",
   "metadata": {},
   "source": [
    "The vectorizer in the provided code is an instance of the TfidfVectorizer class, which is used to convert text data into TF-IDF features. The output of the vectorizer will be a sparse matrix representation of the TF-IDF features for the given text data."
   ]
  },
  {
   "cell_type": "code",
   "execution_count": 11,
   "id": "e95c9759",
   "metadata": {},
   "outputs": [
    {
     "name": "stdout",
     "output_type": "stream",
     "text": [
      "TfidfVectorizer(max_features=50000)\n"
     ]
    }
   ],
   "source": [
    "print(vectorizer)"
   ]
  },
  {
   "cell_type": "code",
   "execution_count": 28,
   "id": "67906c41",
   "metadata": {},
   "outputs": [
    {
     "name": "stdout",
     "output_type": "stream",
     "text": [
      "  (0, 31193)\t0.12946568007136977\n",
      "  (0, 4448)\t0.1729082466363394\n",
      "  (0, 6346)\t0.06731736235562648\n",
      "  (0, 30477)\t0.15769365734206706\n",
      "  (0, 8176)\t0.20765559963672467\n",
      "  (0, 20167)\t0.22503768553091824\n",
      "  (0, 37298)\t0.16988171172975314\n",
      "  (0, 16634)\t0.18498531782673544\n",
      "  (0, 23597)\t0.06726878766346474\n",
      "  (0, 26823)\t0.12978897688241645\n",
      "  (0, 16175)\t0.10030175437407826\n",
      "  (0, 23164)\t0.11911699469273199\n",
      "  (0, 31127)\t0.41687686721714917\n",
      "  (0, 10567)\t0.1255134706468315\n",
      "  (0, 30973)\t0.07941952565468233\n",
      "  (0, 3418)\t0.04623299126386206\n",
      "  (0, 20483)\t0.18653111584747012\n",
      "  (0, 16281)\t0.17272093662938284\n",
      "  (0, 15063)\t0.20441443145859717\n",
      "  (0, 5324)\t0.551812604901049\n",
      "  (0, 4011)\t0.08279418589601452\n",
      "  (0, 17070)\t0.19937089086140533\n",
      "  (0, 22366)\t0.17614607909059557\n",
      "  (0, 14221)\t0.056987997765447905\n",
      "  (0, 18632)\t0.13833198049926873\n",
      "  :\t:\n",
      "  (39998, 30973)\t0.08249566497696113\n",
      "  (39998, 3418)\t0.04802372372217099\n",
      "  (39998, 16281)\t0.358821798675511\n",
      "  (39998, 22366)\t0.06098956903388132\n",
      "  (39998, 14221)\t0.05919530156610836\n",
      "  (39998, 18632)\t0.0478966544007741\n",
      "  (39999, 25064)\t0.37139558269109557\n",
      "  (39999, 19739)\t0.3328066258104074\n",
      "  (39999, 26574)\t0.2890115037391208\n",
      "  (39999, 19497)\t0.43338104042096676\n",
      "  (39999, 26528)\t0.2395137542941375\n",
      "  (39999, 33447)\t0.3251861535448929\n",
      "  (39999, 26083)\t0.17176552445971216\n",
      "  (39999, 6896)\t0.14723519515440445\n",
      "  (39999, 22209)\t0.18146820065434835\n",
      "  (39999, 26910)\t0.18280344421526382\n",
      "  (39999, 23433)\t0.10425710061907263\n",
      "  (39999, 4576)\t0.19242602110994883\n",
      "  (39999, 15310)\t0.145313464297655\n",
      "  (39999, 5212)\t0.19224524217938901\n",
      "  (39999, 37838)\t0.12366690881102055\n",
      "  (39999, 33486)\t0.21254586814457035\n",
      "  (39999, 15572)\t0.13693216277586429\n",
      "  (39999, 3418)\t0.07487646869753829\n",
      "  (39999, 14221)\t0.09229469939478657\n"
     ]
    }
   ],
   "source": [
    "#Transforming the text data into numerical features using the trained vectorizer\n",
    "\n",
    "train_features = vectorizer.fit_transform(train_df['reviewText'])\n",
    "#train_features = vectorizer.transform(train_df['reviewText'])\n",
    "print(train_features)"
   ]
  },
  {
   "cell_type": "markdown",
   "id": "64921a0a",
   "metadata": {},
   "source": [
    "The output of print(train_features) will display the sparse matrix representation of the TF-IDF features for the training set's review text.\n",
    "\n",
    "When you call fit_transform() on the vectorizer object with the training set's review text data, it learns the vocabulary and computes the TF-IDF values for each term in the text corpus. The resulting sparse matrix represents the transformed data, where each row corresponds to a document (review) and each column corresponds to a unique term in the vocabulary."
   ]
  },
  {
   "cell_type": "code",
   "execution_count": 11,
   "id": "e04895ce",
   "metadata": {},
   "outputs": [
    {
     "data": {
      "text/plain": [
       "scipy.sparse.csr.csr_matrix"
      ]
     },
     "execution_count": 11,
     "metadata": {},
     "output_type": "execute_result"
    }
   ],
   "source": [
    "type(train_features)"
   ]
  },
  {
   "cell_type": "markdown",
   "id": "ef478352",
   "metadata": {},
   "source": [
    "# Checking the Output "
   ]
  },
  {
   "cell_type": "code",
   "execution_count": 12,
   "id": "87bee274",
   "metadata": {},
   "outputs": [
    {
     "name": "stdout",
     "output_type": "stream",
     "text": [
      "I bought it for my husband as a birthday gift, he loved it and so did my son. Now my son has put it on his birthday wish list. compact size but awesome sound\n"
     ]
    }
   ],
   "source": [
    "print(train_df['reviewText'].iloc[0])"
   ]
  },
  {
   "cell_type": "code",
   "execution_count": 13,
   "id": "8c71457f",
   "metadata": {},
   "outputs": [
    {
     "name": "stdout",
     "output_type": "stream",
     "text": [
      "my\n"
     ]
    }
   ],
   "source": [
    "feature_names = vectorizer.get_feature_names()\n",
    "word = feature_names[22366]\n",
    "print(word)"
   ]
  },
  {
   "cell_type": "code",
   "execution_count": 14,
   "id": "f47874e9",
   "metadata": {},
   "outputs": [
    {
     "name": "stdout",
     "output_type": "stream",
     "text": [
      "Maximum TF-IDF value: 1.0\n",
      "Row index: 9078\n",
      "Column index: 7336\n",
      "Corresponding word: cheap\n",
      "ReviewText :  Cheap!\n"
     ]
    }
   ],
   "source": [
    "#Finding the maximum value and its corresponding word in the transformed training features\n",
    "max_value_index = train_features.argmax()\n",
    "max_row_index, max_col_index = divmod(max_value_index, train_features.shape[1])\n",
    "max_word = vectorizer.get_feature_names()[max_col_index]\n",
    "\n",
    "print(\"Maximum TF-IDF value:\", train_features[max_row_index, max_col_index])\n",
    "print(\"Row index:\", max_row_index)\n",
    "print(\"Column index:\", max_col_index)\n",
    "print(\"Corresponding word:\", max_word)\n",
    "print(\"ReviewText : \" , train_df['reviewText'].iloc[max_row_index])\n"
   ]
  },
  {
   "cell_type": "markdown",
   "id": "4229ace1",
   "metadata": {},
   "source": [
    "## Train a Multinomial Naive Bayes model:"
   ]
  },
  {
   "cell_type": "code",
   "execution_count": 22,
   "id": "d288eead",
   "metadata": {},
   "outputs": [
    {
     "data": {
      "text/plain": [
       "MultinomialNB()"
      ]
     },
     "execution_count": 22,
     "metadata": {},
     "output_type": "execute_result"
    }
   ],
   "source": [
    "naive_bayes = MultinomialNB()\n",
    "naive_bayes.fit(train_features,train_df['overall'])"
   ]
  },
  {
   "cell_type": "markdown",
   "id": "32a975a1",
   "metadata": {},
   "source": [
    "The code naive_bayes.fit(train_features, train_df['overall']) trains a Multinomial Naive Bayes model using the train_features matrix, which represents the TF-IDF features of the training set, and the train_df['overall'] series, which contains the corresponding overall ratings for the training set.\n",
    "\n",
    "When you call the fit() method on the naive_bayes model, it will train the model using the provided input data. The model will learn the parameters (probabilities) from the training data in order to make predictions.\n",
    "\n",
    "The fit() method does not produce any output by default. It updates the internal state of the naive_bayes model object, modifying it to reflect the learned parameters."
   ]
  },
  {
   "cell_type": "code",
   "execution_count": 23,
   "id": "8a60f476",
   "metadata": {},
   "outputs": [
    {
     "name": "stdout",
     "output_type": "stream",
     "text": [
      "  (0, 37308)\t0.11989539565675027\n",
      "  (0, 36769)\t0.2276865635693803\n",
      "  (0, 34249)\t0.20670022178481962\n",
      "  (0, 33789)\t0.09350286188922102\n",
      "  (0, 33486)\t0.3089364930832138\n",
      "  (0, 33467)\t0.12063138680044887\n",
      "  (0, 30973)\t0.14021628578286438\n",
      "  (0, 30099)\t0.30369975443101643\n",
      "  (0, 24799)\t0.24124300967296217\n",
      "  (0, 23433)\t0.11365366682536071\n",
      "  (0, 19809)\t0.352539959269685\n",
      "  (0, 19095)\t0.1587617841889677\n",
      "  (0, 18556)\t0.1005877724992824\n",
      "  (0, 18454)\t0.18322387239016533\n",
      "  (0, 18438)\t0.29956322082915193\n",
      "  (0, 8945)\t0.35874201870426503\n",
      "  (0, 8936)\t0.27223183595434597\n",
      "  (0, 8054)\t0.2661550999411831\n",
      "  (0, 3871)\t0.16152105552052815\n",
      "  (0, 3418)\t0.0816249941335196\n",
      "  (1, 37486)\t0.10533912474894197\n",
      "  (1, 37308)\t0.14408971228531173\n",
      "  (1, 37185)\t0.10627746434940462\n",
      "  (1, 36179)\t0.09117454605287854\n",
      "  (1, 36051)\t0.12820676496710876\n",
      "  :\t:\n",
      "  (9999, 33467)\t0.08205806587463003\n",
      "  (9999, 33445)\t0.12256025459226356\n",
      "  (9999, 26828)\t0.29898050375733165\n",
      "  (9999, 24986)\t0.08255391361100989\n",
      "  (9999, 23989)\t0.11495613132371038\n",
      "  (9999, 23926)\t0.12716118837141138\n",
      "  (9999, 23611)\t0.09895990281771003\n",
      "  (9999, 22366)\t0.07051538014232858\n",
      "  (9999, 21993)\t0.126277132847533\n",
      "  (9999, 19838)\t0.18293831254160192\n",
      "  (9999, 18632)\t0.05537751530495415\n",
      "  (9999, 18556)\t0.06842363567934794\n",
      "  (9999, 17603)\t0.08077765209954042\n",
      "  (9999, 14639)\t0.23779934669294678\n",
      "  (9999, 14292)\t0.2595426129365148\n",
      "  (9999, 13460)\t0.24143110489529143\n",
      "  (9999, 13409)\t0.16583175044782408\n",
      "  (9999, 10039)\t0.1863628177521311\n",
      "  (9999, 9506)\t0.2519001631083285\n",
      "  (9999, 7292)\t0.15858695681200613\n",
      "  (9999, 7252)\t0.13970837003335446\n",
      "  (9999, 6619)\t0.16343623508868985\n",
      "  (9999, 5212)\t0.14255890966013035\n",
      "  (9999, 4011)\t0.2982999774934763\n",
      "  (9999, 3352)\t0.28630283508600585\n"
     ]
    }
   ],
   "source": [
    "test_features = vectorizer.transform(test_df['reviewText'])\n",
    "print(test_features)"
   ]
  },
  {
   "cell_type": "code",
   "execution_count": 27,
   "id": "8f891782",
   "metadata": {},
   "outputs": [
    {
     "name": "stdout",
     "output_type": "stream",
     "text": [
      "(10000, 38027)\n",
      "(40000, 38027)\n"
     ]
    }
   ],
   "source": [
    "print(test_features.shape)\n",
    "print(train_features.shape)"
   ]
  },
  {
   "cell_type": "code",
   "execution_count": 25,
   "id": "379c1e64",
   "metadata": {},
   "outputs": [
    {
     "name": "stdout",
     "output_type": "stream",
     "text": [
      "[5. 5. 5. ... 5. 5. 5.]\n"
     ]
    }
   ],
   "source": [
    "test_predictions = naive_bayes.predict(test_features)\n",
    "print(test_predictions)"
   ]
  },
  {
   "cell_type": "code",
   "execution_count": 29,
   "id": "c9023112",
   "metadata": {},
   "outputs": [
    {
     "name": "stdout",
     "output_type": "stream",
     "text": [
      "              precision    recall  f1-score   support\n",
      "\n",
      "         1.0     1.0000    0.0034    0.0068       882\n",
      "         2.0     0.0000    0.0000    0.0000       676\n",
      "         3.0     1.0000    0.0035    0.0069      1159\n",
      "         4.0     0.0000    0.0000    0.0000      2045\n",
      "         5.0     0.5243    0.9998    0.6879      5238\n",
      "\n",
      "    accuracy                         0.5244     10000\n",
      "   macro avg     0.5049    0.2013    0.1403     10000\n",
      "weighted avg     0.4787    0.5244    0.3617     10000\n",
      "\n"
     ]
    },
    {
     "name": "stderr",
     "output_type": "stream",
     "text": [
      "C:\\ProgramData\\Anaconda\\lib\\site-packages\\sklearn\\metrics\\_classification.py:1248: UndefinedMetricWarning: Precision and F-score are ill-defined and being set to 0.0 in labels with no predicted samples. Use `zero_division` parameter to control this behavior.\n",
      "  _warn_prf(average, modifier, msg_start, len(result))\n",
      "C:\\ProgramData\\Anaconda\\lib\\site-packages\\sklearn\\metrics\\_classification.py:1248: UndefinedMetricWarning: Precision and F-score are ill-defined and being set to 0.0 in labels with no predicted samples. Use `zero_division` parameter to control this behavior.\n",
      "  _warn_prf(average, modifier, msg_start, len(result))\n",
      "C:\\ProgramData\\Anaconda\\lib\\site-packages\\sklearn\\metrics\\_classification.py:1248: UndefinedMetricWarning: Precision and F-score are ill-defined and being set to 0.0 in labels with no predicted samples. Use `zero_division` parameter to control this behavior.\n",
      "  _warn_prf(average, modifier, msg_start, len(result))\n"
     ]
    }
   ],
   "source": [
    "classificationreport = classification_report(test_df['overall'], test_predictions,digits=4)\n",
    "print(classificationreport)\n"
   ]
  }
 ],
 "metadata": {
  "kernelspec": {
   "display_name": "Python 3 (ipykernel)",
   "language": "python",
   "name": "python3"
  },
  "language_info": {
   "codemirror_mode": {
    "name": "ipython",
    "version": 3
   },
   "file_extension": ".py",
   "mimetype": "text/x-python",
   "name": "python",
   "nbconvert_exporter": "python",
   "pygments_lexer": "ipython3",
   "version": "3.9.13"
  }
 },
 "nbformat": 4,
 "nbformat_minor": 5
}
