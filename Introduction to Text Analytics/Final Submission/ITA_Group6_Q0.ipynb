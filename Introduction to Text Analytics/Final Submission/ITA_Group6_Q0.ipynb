{
 "cells": [
  {
   "cell_type": "markdown",
   "id": "8af009db",
   "metadata": {},
   "source": [
    "<h1>Introduction to Text Analytics</h1>\n",
    "<h3>Group Assignment</h3>"
   ]
  },
  {
   "cell_type": "markdown",
   "id": "ba31c9d1",
   "metadata": {},
   "source": [
    "Group 6\n",
    "\n",
    "* Akshay Ramdev - 12220032\n",
    "* Charanjeet Singh - 12220064\n",
    "* Pooja Nilesh Doshi - 12220028\n",
    "* Snigdha Debashis Bhattacharjee - 12220067\n",
    "* Vinayak Dave - 12220047"
   ]
  },
  {
   "cell_type": "markdown",
   "id": "abe98126",
   "metadata": {},
   "source": [
    "## Q0 (Question 1)"
   ]
  },
  {
   "cell_type": "code",
   "execution_count": 3,
   "id": "efa4eed5",
   "metadata": {},
   "outputs": [],
   "source": [
    "#Importing Libraries\n",
    "import json\n",
    "import pandas as pd"
   ]
  },
  {
   "cell_type": "markdown",
   "id": "764d807e",
   "metadata": {},
   "source": [
    "#### import json: This line imports the json module to work with JSON data in Python.\n",
    "#### import pandas: This line imports the pandas library which provides data structures and data analysis tools to work with tabular data."
   ]
  },
  {
   "cell_type": "code",
   "execution_count": 4,
   "id": "7ac2764a",
   "metadata": {},
   "outputs": [
    {
     "name": "stdout",
     "output_type": "stream",
     "text": [
      "                                              reviewText  overall\n",
      "0      They look good and stick good! I just don't li...      4.0\n",
      "1      These stickers work like the review says they ...      5.0\n",
      "2      These are awesome and make my phone look so st...      5.0\n",
      "3      Item arrived in great time and was in perfect ...      4.0\n",
      "4      awesome! stays on, and looks great. can be use...      5.0\n",
      "...                                                  ...      ...\n",
      "49995  I was sceptical about these batteries because ...      5.0\n",
      "49996  These batteries have been great replacements i...      5.0\n",
      "49997  It works. The thunderbolt eats battery life li...      4.0\n",
      "49998  These batteries have held up for over a year n...      4.0\n",
      "49999  I've had my HTC Thunderbolt for almost 2 years...      5.0\n",
      "\n",
      "[50000 rows x 2 columns]\n"
     ]
    }
   ],
   "source": [
    "file_path = 'C:/Users/SNIGGDHA/dataset.txt'  # Path to the dataset file\n",
    "\n",
    "\n",
    "# Read the dataset file in JSON format and extract review text and overall rating\n",
    "# Create a list to store the extracted reviews\n",
    "reviews = []\n",
    "\n",
    "with open(file_path, 'r') as file:\n",
    "    for line in file:\n",
    "        data = json.loads(line)\n",
    "        review = {\n",
    "            \"reviewText\": data['reviewText'],\n",
    "            \"overall\": data['overall']\n",
    "        }\n",
    "        reviews.append(review)\n",
    "\n",
    "df = pd.DataFrame(reviews)\n",
    "print(df)"
   ]
  },
  {
   "cell_type": "markdown",
   "id": "6c325f39",
   "metadata": {},
   "source": [
    "#### Here we have loaded dataset file line by line using iterative for loop .\n",
    "#### with open(file_path, 'r') as file:- This line opens the file specified by filepath in read mode . The with statement ensures that the file is properly closed after it's processed. \n",
    "#### json.loads():- This parses the current line and converts the JSON string into a Python Dict .\n",
    "#### Then a review dict is created wherein all the values of reviewText and overall columns is stored in the dictionary form . Later dict object review is converted into a Dataframe object and stored in the tabular format."
   ]
  },
  {
   "cell_type": "code",
   "execution_count": null,
   "id": "51e86611",
   "metadata": {},
   "outputs": [],
   "source": []
  }
 ],
 "metadata": {
  "kernelspec": {
   "display_name": "Python 3 (ipykernel)",
   "language": "python",
   "name": "python3"
  },
  "language_info": {
   "codemirror_mode": {
    "name": "ipython",
    "version": 3
   },
   "file_extension": ".py",
   "mimetype": "text/x-python",
   "name": "python",
   "nbconvert_exporter": "python",
   "pygments_lexer": "ipython3",
   "version": "3.9.13"
  }
 },
 "nbformat": 4,
 "nbformat_minor": 5
}
