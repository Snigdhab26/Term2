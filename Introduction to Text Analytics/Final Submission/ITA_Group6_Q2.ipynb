{
 "cells": [
  {
   "cell_type": "markdown",
   "id": "5a56d181",
   "metadata": {},
   "source": [
    "<h1>Introduction to Text Analytics</h1>\n",
    "<h3>Group Assignment</h3>"
   ]
  },
  {
   "cell_type": "markdown",
   "id": "9323fb78",
   "metadata": {},
   "source": [
    "Group 6\n",
    "\n",
    "* Akshay Ramdev - 12220032\n",
    "* Charanjeet Singh - 12220064\n",
    "* Pooja Nilesh Doshi - 12220028\n",
    "* Snigdha Debashis Bhattacharjee - 12220067\n",
    "* Vinayak Dave - 12220047"
   ]
  },
  {
   "cell_type": "markdown",
   "id": "224d1620",
   "metadata": {},
   "source": [
    "## Q2 (Question 3)"
   ]
  },
  {
   "cell_type": "code",
   "execution_count": 9,
   "id": "ef03a8e7",
   "metadata": {},
   "outputs": [],
   "source": [
    "#Importiln Libraries\n",
    "import json\n",
    "import pandas as pd\n",
    "import string\n",
    "import math\n",
    "import spacy"
   ]
  },
  {
   "cell_type": "code",
   "execution_count": 10,
   "id": "c6be1263",
   "metadata": {},
   "outputs": [
    {
     "name": "stdout",
     "output_type": "stream",
     "text": [
      "           reviewerID                                         reviewText  \\\n",
      "0      A30TL5EWN6DFXT  They look good and stick good! I just don't li...   \n",
      "1       ASY55RVNIL0UD  These stickers work like the review says they ...   \n",
      "2      A2TMXE2AFO7ONB  These are awesome and make my phone look so st...   \n",
      "3       AWJ0WZQYMYFQ4  Item arrived in great time and was in perfect ...   \n",
      "4       ATX7CZYFXI1KW  awesome! stays on, and looks great. can be use...   \n",
      "...               ...                                                ...   \n",
      "49995  A1TY3I0D8LOXP9  I was sceptical about these batteries because ...   \n",
      "49996  A2WUOZN2O3HEFK  These batteries have been great replacements i...   \n",
      "49997  A1D1M7YZKAHBM5  It works. The thunderbolt eats battery life li...   \n",
      "49998  A3UCIS4FZA8HMQ  These batteries have held up for over a year n...   \n",
      "49999  A3CJ4K89FAYU6L  I've had my HTC Thunderbolt for almost 2 years...   \n",
      "\n",
      "       overall  \n",
      "0          4.0  \n",
      "1          5.0  \n",
      "2          5.0  \n",
      "3          4.0  \n",
      "4          5.0  \n",
      "...        ...  \n",
      "49995      5.0  \n",
      "49996      5.0  \n",
      "49997      4.0  \n",
      "49998      4.0  \n",
      "49999      5.0  \n",
      "\n",
      "[50000 rows x 3 columns]\n"
     ]
    }
   ],
   "source": [
    "file_path = 'C:/Users/SNIGGDHA/dataset.txt'  # Path to the dataset file\n",
    "\n",
    "# Read the dataset file in JSON format and extract review text and overall rating\n",
    "# Create a list to store the extracted reviews\n",
    "reviews = []\n",
    "\n",
    "with open(file_path, 'r') as file:\n",
    "    for line in file:\n",
    "        data = json.loads(line)\n",
    "        review = {\"reviewerID\": data['reviewerID'],\n",
    "            \"reviewText\": data['reviewText'],\n",
    "            \"overall\": data['overall']\n",
    "        }\n",
    "        reviews.append(review)\n",
    "\n",
    "df = pd.DataFrame(reviews)\n",
    "print(df)"
   ]
  },
  {
   "cell_type": "code",
   "execution_count": 11,
   "id": "5b1bbc94",
   "metadata": {},
   "outputs": [
    {
     "data": {
      "text/html": [
       "<div>\n",
       "<style scoped>\n",
       "    .dataframe tbody tr th:only-of-type {\n",
       "        vertical-align: middle;\n",
       "    }\n",
       "\n",
       "    .dataframe tbody tr th {\n",
       "        vertical-align: top;\n",
       "    }\n",
       "\n",
       "    .dataframe thead th {\n",
       "        text-align: right;\n",
       "    }\n",
       "</style>\n",
       "<table border=\"1\" class=\"dataframe\">\n",
       "  <thead>\n",
       "    <tr style=\"text-align: right;\">\n",
       "      <th></th>\n",
       "      <th>reviewerID</th>\n",
       "      <th>reviewText</th>\n",
       "      <th>overall</th>\n",
       "    </tr>\n",
       "  </thead>\n",
       "  <tbody>\n",
       "    <tr>\n",
       "      <th>0</th>\n",
       "      <td>A30TL5EWN6DFXT</td>\n",
       "      <td>They look good and stick good! I just don't li...</td>\n",
       "      <td>4.0</td>\n",
       "    </tr>\n",
       "    <tr>\n",
       "      <th>1</th>\n",
       "      <td>ASY55RVNIL0UD</td>\n",
       "      <td>These stickers work like the review says they ...</td>\n",
       "      <td>5.0</td>\n",
       "    </tr>\n",
       "    <tr>\n",
       "      <th>2</th>\n",
       "      <td>A2TMXE2AFO7ONB</td>\n",
       "      <td>These are awesome and make my phone look so st...</td>\n",
       "      <td>5.0</td>\n",
       "    </tr>\n",
       "    <tr>\n",
       "      <th>3</th>\n",
       "      <td>AWJ0WZQYMYFQ4</td>\n",
       "      <td>Item arrived in great time and was in perfect ...</td>\n",
       "      <td>4.0</td>\n",
       "    </tr>\n",
       "    <tr>\n",
       "      <th>4</th>\n",
       "      <td>ATX7CZYFXI1KW</td>\n",
       "      <td>awesome! stays on, and looks great. can be use...</td>\n",
       "      <td>5.0</td>\n",
       "    </tr>\n",
       "    <tr>\n",
       "      <th>5</th>\n",
       "      <td>APX47D16JOP7H</td>\n",
       "      <td>These make using the home button easy. My daug...</td>\n",
       "      <td>3.0</td>\n",
       "    </tr>\n",
       "    <tr>\n",
       "      <th>6</th>\n",
       "      <td>A1JVVYYO7G56DS</td>\n",
       "      <td>Came just as described.. It doesn't come unstu...</td>\n",
       "      <td>5.0</td>\n",
       "    </tr>\n",
       "    <tr>\n",
       "      <th>7</th>\n",
       "      <td>A6FGO4TBZ3QFZ</td>\n",
       "      <td>it worked for the first week then it only char...</td>\n",
       "      <td>1.0</td>\n",
       "    </tr>\n",
       "    <tr>\n",
       "      <th>8</th>\n",
       "      <td>A2JWEDW5FSVB0F</td>\n",
       "      <td>Good case, solid build. Protects phone all aro...</td>\n",
       "      <td>5.0</td>\n",
       "    </tr>\n",
       "    <tr>\n",
       "      <th>9</th>\n",
       "      <td>A8AJS1DW7L3JJ</td>\n",
       "      <td>This is a fantastic case. Very stylish and pro...</td>\n",
       "      <td>5.0</td>\n",
       "    </tr>\n",
       "  </tbody>\n",
       "</table>\n",
       "</div>"
      ],
      "text/plain": [
       "       reviewerID                                         reviewText  overall\n",
       "0  A30TL5EWN6DFXT  They look good and stick good! I just don't li...      4.0\n",
       "1   ASY55RVNIL0UD  These stickers work like the review says they ...      5.0\n",
       "2  A2TMXE2AFO7ONB  These are awesome and make my phone look so st...      5.0\n",
       "3   AWJ0WZQYMYFQ4  Item arrived in great time and was in perfect ...      4.0\n",
       "4   ATX7CZYFXI1KW  awesome! stays on, and looks great. can be use...      5.0\n",
       "5   APX47D16JOP7H  These make using the home button easy. My daug...      3.0\n",
       "6  A1JVVYYO7G56DS  Came just as described.. It doesn't come unstu...      5.0\n",
       "7   A6FGO4TBZ3QFZ  it worked for the first week then it only char...      1.0\n",
       "8  A2JWEDW5FSVB0F  Good case, solid build. Protects phone all aro...      5.0\n",
       "9   A8AJS1DW7L3JJ  This is a fantastic case. Very stylish and pro...      5.0"
      ]
     },
     "execution_count": 11,
     "metadata": {},
     "output_type": "execute_result"
    }
   ],
   "source": [
    "df_subset = df.head(10)\n",
    "df_subset"
   ]
  },
  {
   "cell_type": "code",
   "execution_count": 12,
   "id": "b1760ae8",
   "metadata": {},
   "outputs": [
    {
     "data": {
      "text/plain": [
       "reviewerID                                       A30TL5EWN6DFXT\n",
       "reviewText    They look good and stick good! I just don't li...\n",
       "overall                                                     4.0\n",
       "Name: 0, dtype: object"
      ]
     },
     "execution_count": 12,
     "metadata": {},
     "output_type": "execute_result"
    }
   ],
   "source": [
    "#Retrieve the first row of the DataFrame subset 'df_subset'.\n",
    "df_subset.iloc[0]"
   ]
  },
  {
   "cell_type": "code",
   "execution_count": 13,
   "id": "36b7cc6b",
   "metadata": {},
   "outputs": [],
   "source": [
    "#Load the English language model for Natural Language Processing using spaCy.\n",
    "nlp = spacy.load('en_core_web_sm')\n",
    "\n",
    "#Performing sentence detection on a given row of text data, extracting individual sentences from the review text using the spaCy model.\n",
    "def sentence_detection(row):\n",
    "    reviewer_id = row['reviewerID']\n",
    "    review_text = row['reviewText']\n",
    "    doc = nlp(review_text)\n",
    "    sentences = [sentence.text for sentence in doc.sents]\n",
    "    return pd.DataFrame({'reviewerID': [reviewer_id] * len(sentences), 'reviewText': sentences})\n",
    "\n"
   ]
  },
  {
   "cell_type": "code",
   "execution_count": 14,
   "id": "af5421aa",
   "metadata": {},
   "outputs": [
    {
     "name": "stdout",
     "output_type": "stream",
     "text": [
      "        reviewerID                                         reviewText\n",
      "0   A30TL5EWN6DFXT                     They look good and stick good!\n",
      "1   A30TL5EWN6DFXT  I just don't like the rounded shape because I ...\n",
      "2   A30TL5EWN6DFXT         I just won't buy a product like this again\n",
      "3    ASY55RVNIL0UD  These stickers work like the review says they do.\n",
      "4    ASY55RVNIL0UD                                They stick on great\n",
      "5    ASY55RVNIL0UD                        and they stay on the phone.\n",
      "6    ASY55RVNIL0UD                             They are super stylish\n",
      "7    ASY55RVNIL0UD            and I can share them with my sister. :)\n",
      "8   A2TMXE2AFO7ONB  These are awesome and make my phone look so st...\n",
      "9   A2TMXE2AFO7ONB  I have only used one so far and have had it on...\n",
      "10  A2TMXE2AFO7ONB                              CAN YOU BELIEVE THAT!\n",
      "11  A2TMXE2AFO7ONB                                         ONE YEAR!!\n",
      "12  A2TMXE2AFO7ONB                                     Great quality!\n",
      "13   AWJ0WZQYMYFQ4  Item arrived in great time and was in perfect ...\n",
      "14   AWJ0WZQYMYFQ4  However, I ordered these buttons because they ...\n",
      "15   AWJ0WZQYMYFQ4                              I never received one.\n",
      "16   AWJ0WZQYMYFQ4  Though its not a big deal, it would've been ni...\n",
      "17   ATX7CZYFXI1KW                                           awesome!\n",
      "18   ATX7CZYFXI1KW                         stays on, and looks great.\n",
      "19   ATX7CZYFXI1KW          can be used on multiple apple products.  \n",
      "20   ATX7CZYFXI1KW  especially having nails, it helps to have an e...\n",
      "21   APX47D16JOP7H             These make using the home button easy.\n",
      "22   APX47D16JOP7H                My daughter and I both like them.  \n",
      "23   APX47D16JOP7H                       I would purchase them again.\n",
      "24   APX47D16JOP7H                              Well worth the price.\n",
      "25  A1JVVYYO7G56DS                           Came just as described..\n",
      "26  A1JVVYYO7G56DS              It doesn't come unstuck and its cute!\n",
      "27  A1JVVYYO7G56DS  People ask where I got them from & it's great ...\n",
      "28   A6FGO4TBZ3QFZ  it worked for the first week then it only char...\n",
      "29   A6FGO4TBZ3QFZ                            it is a waste of money.\n",
      "30  A2JWEDW5FSVB0F                            Good case, solid build.\n",
      "31  A2JWEDW5FSVB0F  Protects phone all around with good access to ...\n",
      "32  A2JWEDW5FSVB0F  Battery charges with full battery lasts me a f...\n",
      "33  A2JWEDW5FSVB0F  I usually leave my house around 7am and return...\n",
      "34  A2JWEDW5FSVB0F          I'm glad that it lasts from start to end.\n",
      "35  A2JWEDW5FSVB0F                                                5/5\n",
      "36   A8AJS1DW7L3JJ                          This is a fantastic case.\n",
      "37   A8AJS1DW7L3JJ                Very stylish and protects my phone.\n",
      "38   A8AJS1DW7L3JJ  Easy access to all buttons and features, witho...\n",
      "39   A8AJS1DW7L3JJ  But most importantly, it double power, just as...\n",
      "40   A8AJS1DW7L3JJ                                          Great buy\n"
     ]
    }
   ],
   "source": [
    "df_final = pd.concat([sentence_detection(row) for idx, row in df_subset.iterrows()], ignore_index=True)\n",
    "\n",
    "print(df_final)"
   ]
  },
  {
   "cell_type": "code",
   "execution_count": 16,
   "id": "f9917a2e",
   "metadata": {},
   "outputs": [
    {
     "data": {
      "text/plain": [
       "'This is a fantastic case. Very stylish and protects my phone. Easy access to all buttons and features, without any loss of phone reception. But most importantly, it double power, just as promised. Great buy'"
      ]
     },
     "execution_count": 16,
     "metadata": {},
     "output_type": "execute_result"
    }
   ],
   "source": [
    "df_subset['reviewText'].iloc[9]"
   ]
  },
  {
   "cell_type": "code",
   "execution_count": 8,
   "id": "0ab3a20e",
   "metadata": {},
   "outputs": [
    {
     "data": {
      "text/html": [
       "<div>\n",
       "<style scoped>\n",
       "    .dataframe tbody tr th:only-of-type {\n",
       "        vertical-align: middle;\n",
       "    }\n",
       "\n",
       "    .dataframe tbody tr th {\n",
       "        vertical-align: top;\n",
       "    }\n",
       "\n",
       "    .dataframe thead th {\n",
       "        text-align: right;\n",
       "    }\n",
       "</style>\n",
       "<table border=\"1\" class=\"dataframe\">\n",
       "  <thead>\n",
       "    <tr style=\"text-align: right;\">\n",
       "      <th></th>\n",
       "      <th>reviewerID</th>\n",
       "      <th>reviewText</th>\n",
       "    </tr>\n",
       "  </thead>\n",
       "  <tbody>\n",
       "    <tr>\n",
       "      <th>36</th>\n",
       "      <td>A8AJS1DW7L3JJ</td>\n",
       "      <td>This is a fantastic case.</td>\n",
       "    </tr>\n",
       "    <tr>\n",
       "      <th>37</th>\n",
       "      <td>A8AJS1DW7L3JJ</td>\n",
       "      <td>Very stylish and protects my phone.</td>\n",
       "    </tr>\n",
       "    <tr>\n",
       "      <th>38</th>\n",
       "      <td>A8AJS1DW7L3JJ</td>\n",
       "      <td>Easy access to all buttons and features, witho...</td>\n",
       "    </tr>\n",
       "    <tr>\n",
       "      <th>39</th>\n",
       "      <td>A8AJS1DW7L3JJ</td>\n",
       "      <td>But most importantly, it double power, just as...</td>\n",
       "    </tr>\n",
       "    <tr>\n",
       "      <th>40</th>\n",
       "      <td>A8AJS1DW7L3JJ</td>\n",
       "      <td>Great buy</td>\n",
       "    </tr>\n",
       "  </tbody>\n",
       "</table>\n",
       "</div>"
      ],
      "text/plain": [
       "       reviewerID                                         reviewText\n",
       "36  A8AJS1DW7L3JJ                          This is a fantastic case.\n",
       "37  A8AJS1DW7L3JJ                Very stylish and protects my phone.\n",
       "38  A8AJS1DW7L3JJ  Easy access to all buttons and features, witho...\n",
       "39  A8AJS1DW7L3JJ  But most importantly, it double power, just as...\n",
       "40  A8AJS1DW7L3JJ                                          Great buy"
      ]
     },
     "execution_count": 8,
     "metadata": {},
     "output_type": "execute_result"
    }
   ],
   "source": [
    "df_final[df_final['reviewerID']== df_subset['reviewerID'].iloc[9]]"
   ]
  }
 ],
 "metadata": {
  "kernelspec": {
   "display_name": "Python 3 (ipykernel)",
   "language": "python",
   "name": "python3"
  },
  "language_info": {
   "codemirror_mode": {
    "name": "ipython",
    "version": 3
   },
   "file_extension": ".py",
   "mimetype": "text/x-python",
   "name": "python",
   "nbconvert_exporter": "python",
   "pygments_lexer": "ipython3",
   "version": "3.9.13"
  }
 },
 "nbformat": 4,
 "nbformat_minor": 5
}
